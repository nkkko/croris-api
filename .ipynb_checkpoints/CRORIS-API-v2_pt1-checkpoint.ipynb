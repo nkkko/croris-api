{
 "cells": [
  {
   "cell_type": "markdown",
   "id": "3b5f2adc",
   "metadata": {},
   "source": [
    "# CRORIS Projekti"
   ]
  },
  {
   "cell_type": "code",
   "execution_count": 4,
   "id": "e8025526",
   "metadata": {},
   "outputs": [],
   "source": [
    "#imports\n",
    "import requests\n",
    "import pandas as pd\n",
    "import json\n",
    "import time\n",
    "import datetime"
   ]
  },
  {
   "cell_type": "code",
   "execution_count": 24,
   "id": "2de7d8fd",
   "metadata": {},
   "outputs": [],
   "source": [
    "#make an API call to CRORIS\n",
    "def get_projekt(projekt_id):\n",
    "    api_url = \"https://croris.hr/projekti-api/projekt/\"+str(projekt_id)\n",
    "    err = None\n",
    "    try:\n",
    "        response = requests.get(api_url, timeout=10).json()\n",
    "    except requests.RequestException as e:\n",
    "        raise e\n",
    "    else:\n",
    "        try:\n",
    "            err = response['errorMessage'] #this key is only present if API error occurs due to the wrong string/id sent\n",
    "        except KeyError:\n",
    "            print('Success!') #if errorMessage key is not present that is an obvious success\n",
    "        else:\n",
    "            print(err)\n",
    "    return response, err"
   ]
  },
  {
   "cell_type": "code",
   "execution_count": 81,
   "id": "4a57a0ae",
   "metadata": {},
   "outputs": [],
   "source": [
    "def populate_dfs(response, df_response):\n",
    "    projekt_id = response['id']\n",
    "    created = datetime.datetime.now()\n",
    "\n",
    "    df_response = pd.concat([df_response, pd.DataFrame(data = {\n",
    "        'id': projekt_id,\n",
    "        'response': str(response),\n",
    "        'created': created},\n",
    "        index=[0])]\n",
    "    )\n",
    "    \n",
    "    return df_response"
   ]
  },
  {
   "cell_type": "code",
   "execution_count": 82,
   "id": "169343cb",
   "metadata": {},
   "outputs": [],
   "source": [
    "df_response = pd.DataFrame(columns=['id','response','created'])"
   ]
  },
  {
   "cell_type": "code",
   "execution_count": 102,
   "id": "4d512b11",
   "metadata": {},
   "outputs": [
    {
     "name": "stdout",
     "output_type": "stream",
     "text": [
      "7899\n",
      "Success!\n",
      "7900\n",
      "Ne postoji traženi resurs.\n",
      "7901\n",
      "Ne postoji traženi resurs.\n",
      "7902\n",
      "Ne postoji traženi resurs.\n",
      "7903\n",
      "Ne postoji traženi resurs.\n",
      "7904\n",
      "Ne postoji traženi resurs.\n",
      "7905\n",
      "Ne postoji traženi resurs.\n",
      "7906\n",
      "Ne postoji traženi resurs.\n"
     ]
    },
    {
     "ename": "KeyboardInterrupt",
     "evalue": "",
     "output_type": "error",
     "traceback": [
      "\u001b[0;31m---------------------------------------------------------------------------\u001b[0m",
      "\u001b[0;31mKeyboardInterrupt\u001b[0m                         Traceback (most recent call last)",
      "Input \u001b[0;32mIn [102]\u001b[0m, in \u001b[0;36m<cell line: 10>\u001b[0;34m()\u001b[0m\n\u001b[1;32m     15\u001b[0m \u001b[38;5;66;03m# cal function to get the response from Croris API\u001b[39;00m\n\u001b[1;32m     16\u001b[0m response, err \u001b[38;5;241m=\u001b[39m get_projekt(projekt_id)\n\u001b[0;32m---> 17\u001b[0m \u001b[43mtime\u001b[49m\u001b[38;5;241;43m.\u001b[39;49m\u001b[43msleep\u001b[49m\u001b[43m(\u001b[49m\u001b[38;5;241;43m1\u001b[39;49m\u001b[43m)\u001b[49m \u001b[38;5;66;03m#give it a second to rest for df to catch up\u001b[39;00m\n\u001b[1;32m     19\u001b[0m \u001b[38;5;28;01mif\u001b[39;00m err \u001b[38;5;241m==\u001b[39m \u001b[38;5;124m\"\u001b[39m\u001b[38;5;124mNe postoji traženi resurs.\u001b[39m\u001b[38;5;124m\"\u001b[39m:\n\u001b[1;32m     20\u001b[0m     \u001b[38;5;28mid\u001b[39m \u001b[38;5;241m+\u001b[39m\u001b[38;5;241m=\u001b[39m \u001b[38;5;241m1\u001b[39m\n",
      "\u001b[0;31mKeyboardInterrupt\u001b[0m: "
     ]
    }
   ],
   "source": [
    "# MAIN\n",
    "err = None\n",
    "end = 1\n",
    "\n",
    "try:\n",
    "    last_record = df_response['id'].iloc[-1]\n",
    "except:\n",
    "    last_record = 1\n",
    "    \n",
    "for id in range(last_record,10001):\n",
    "    # set projekt ID\n",
    "    projekt_id = id\n",
    "    print(id)\n",
    "\n",
    "    # cal function to get the response from Croris API\n",
    "    response, err = get_projekt(projekt_id)\n",
    "    time.sleep(1) #give it a second to rest for df to catch up\n",
    "\n",
    "    if err == \"Ne postoji traženi resurs.\":\n",
    "        id += 1\n",
    "        print(end)\n",
    "        end += 1\n",
    "    elif end == 2:\n",
    "        break\n",
    "    else:\n",
    "        # call function populate_dfs() and assign returned dfs to our pandas dfs\n",
    "        df_response = populate_dfs(response, df_response)\n",
    "\n",
    "print(\"Finally finished!\")\n",
    "\n",
    "timestr = time.strftime(\"%Y%m%d-%H%M%S\")\n",
    "drive_path = 'data2/'\n",
    "# drop duplicates from all pandas dfs\n",
    "#df_response = df_response.drop_duplicates(subset='id', keep='last')\n",
    "df_response.to_csv(drive_path+'CRORIS_df_response_'+timestr+'.csv')"
   ]
  },
  {
   "cell_type": "code",
   "execution_count": null,
   "id": "0c0d20df",
   "metadata": {},
   "outputs": [],
   "source": []
  }
 ],
 "metadata": {
  "kernelspec": {
   "display_name": "Python 3 (ipykernel)",
   "language": "python",
   "name": "python3"
  },
  "language_info": {
   "codemirror_mode": {
    "name": "ipython",
    "version": 3
   },
   "file_extension": ".py",
   "mimetype": "text/x-python",
   "name": "python",
   "nbconvert_exporter": "python",
   "pygments_lexer": "ipython3",
   "version": "3.8.9"
  }
 },
 "nbformat": 4,
 "nbformat_minor": 5
}
