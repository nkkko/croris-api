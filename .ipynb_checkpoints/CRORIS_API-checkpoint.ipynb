{
 "cells": [
  {
   "cell_type": "markdown",
   "metadata": {
    "id": "LEJXskqK48h4"
   },
   "source": [
    "# CRORIS Projekti"
   ]
  },
  {
   "cell_type": "code",
   "execution_count": 187,
   "metadata": {
    "id": "vwdoC55y3VEW"
   },
   "outputs": [],
   "source": [
    "#imports\n",
    "#!pip install psycopg2\n",
    "import psycopg2 as ps\n",
    "import requests\n",
    "import pandas as pd\n",
    "import json\n",
    "import time\n",
    "import datetime"
   ]
  },
  {
   "cell_type": "markdown",
   "metadata": {
    "id": "BexTNqObHtPS"
   },
   "source": [
    "### Amazon RDS Postgres database"
   ]
  },
  {
   "cell_type": "code",
   "execution_count": 65,
   "metadata": {
    "id": "ZAqBPGer-Keq"
   },
   "outputs": [],
   "source": [
    "#amazon AWS RDS database connection function\n",
    "def connect_to_db(host_name,db_name,username,password,port):\n",
    "  try:\n",
    "    conn = ps.connect(host=host_name,database=db_name,user=username,password=password,port=port)\n",
    "  except ps.OperationalError as e:\n",
    "    raise e\n",
    "  else:\n",
    "    print('Connected!')\n",
    "  return conn"
   ]
  },
  {
   "cell_type": "code",
   "execution_count": null,
   "metadata": {
    "id": "niOLGRG_9jtf"
   },
   "outputs": [],
   "source": [
    "#database connection details\n",
    "host_name = ''\n",
    "db_name = 'postgres'\n",
    "port = '5432'\n",
    "username = 'postgres'\n",
    "password = ''\n",
    "conn = None\n",
    "conn = connect_to_db(host_name,db_name,username,password,port)"
   ]
  },
  {
   "cell_type": "markdown",
   "metadata": {
    "id": "rAX4TUA6H1Jz"
   },
   "source": [
    "### API call and data processing"
   ]
  },
  {
   "cell_type": "code",
   "execution_count": 264,
   "metadata": {
    "id": "HLj-H2IJhUEu"
   },
   "outputs": [],
   "source": [
    "# build osoba dataframe\n",
    "df_ustanova = pd.DataFrame(columns=['id','mbu','ustanovaNaziv','aaiDomain','created'])#done\n",
    "df_osoba = pd.DataFrame(columns=['id','osobaPoirotId','ime','prezime','ustanovaId','created'])#done\n",
    "df_projekt = pd.DataFrame(columns=['id','projektPoirotId','hrSifraProjekta','tipProjekta_id','acro',\n",
    "                                   'pocetak','kraj','currencyCode','totalCost','title','summary','financijer_id','created'])#done\n",
    "df_financijer = pd.DataFrame(columns=['id','financijerPoirotId','entityId','entityNameHr','entityNameEn',\n",
    "                                      'vrstaIzvoraFinanciranjaId','vrstaIzvoraFinanciranjaName','pozivId','pozivNaziv','created'])#done\n",
    "# relacijske tablice\n",
    "df_osoba_projekt = pd.DataFrame(columns=['osoba_id','projekt_id','pocetak','kraj','projektnaUloga','created'])#done\n",
    "df_projekt_financijer = pd.DataFrame(columns=['projekt_id','financijer_id','created'])#done\n",
    "df_projekt_tip = pd.DataFrame(columns=['projekt_id','tipProjektaId','tipProjektaNaziv','created'])#done\n",
    "df_projekt_ustanova = pd.DataFrame(columns=['projekt_id','ustanova_id','amount','currencyCode','klasifikacijaNaziv','pocetak','kraj','created'])#done"
   ]
  },
  {
   "cell_type": "code",
   "execution_count": 265,
   "metadata": {
    "id": "Dr0aC2jLKvet"
   },
   "outputs": [],
   "source": [
    "#make an API call to CRORIS\n",
    "def get_projekt(projekt_id):\n",
    "  api_url = \"https://croris.hr/projekti-api/projekt/\"+str(projekt_id)\n",
    "  err = None\n",
    "  try:\n",
    "    response = requests.get(api_url, timeout=1).json()\n",
    "  except requests.RequestException as e:\n",
    "    raise e\n",
    "  else:\n",
    "    try:\n",
    "      err = response['errorMessage'] #this key is only present if API error occurs due to the wrong string/id sent\n",
    "    except KeyError:\n",
    "      print('Success!') #if errorMessage key is not present that is an obvious success\n",
    "    else:\n",
    "      print(err)\n",
    "  return response, err"
   ]
  },
  {
   "cell_type": "code",
   "execution_count": 291,
   "metadata": {
    "id": "21KNZZkZXOz0"
   },
   "outputs": [],
   "source": [
    "def populate_dfs(response,df_ustanova,df_osoba,df_projekt,df_financijer,df_osoba_projekt,df_projekt_financijer,df_projekt_tip,df_projekt_ustanova):\n",
    "  projekt_id = response['id']\n",
    "  tipProjektaId = response['tipProjekta']['id']\n",
    "  tipProjektaNaziv = response['tipProjekta']['naziv']\n",
    "  projektPoirotId = response['projektPoirotId']\n",
    "  hrSifraProjekta = response['hrSifraProjekta']\n",
    "  tipProjekta_id = response['tipProjekta']['id']\n",
    "  try:\n",
    "    acro = response['acro']\n",
    "  except:\n",
    "    acro=\"\"\n",
    "  pocetak = response['pocetak']\n",
    "  kraj = response['kraj']\n",
    "  currencyCode = response['currencyCode']\n",
    "  totalCost = response['totalCost']\n",
    "  title = response['title'][0]['naziv']\n",
    "  try:\n",
    "    summary = response['summary'][0]['naziv']\n",
    "  except:\n",
    "    summary = \"\"\n",
    "  try:\n",
    "    financijer_id = response['financijerResources']['_embedded']['financijeri'][0]['id']\n",
    "  except:\n",
    "    financijer_id = \"\"\n",
    "  created = datetime.datetime.now()\n",
    "\n",
    "  try:\n",
    "    response['ustanoveResources']\n",
    "  except:\n",
    "    print('Nema ustanove!')\n",
    "  else:\n",
    "    #iterate over USTANOVA and save as pandas df together with relation with projekt\n",
    "    for ustanova in response['ustanoveResources']['_embedded']['ustanove']:\n",
    "      #ustanova\n",
    "      ustanova_id = ustanova['id']\n",
    "      try:\n",
    "        mbu = ustanova['mbu']\n",
    "      except:\n",
    "        mbu = \"\"\n",
    "      ustanovaNaziv = ustanova['naziv']\n",
    "      try:\n",
    "        aaiDomain = ustanova['aaiDomain']\n",
    "      except:\n",
    "        aaiDomain =\"\"\n",
    "\n",
    "      #projekt ustanova relation\n",
    "      try:\n",
    "        amount = ustanova['amount']\n",
    "      except:\n",
    "        amount = \"\"\n",
    "      try:\n",
    "        currencyCode = ustanova['currencyCode']\n",
    "      except:\n",
    "        currencyCode = \"\"\n",
    "      klasifikacijaNaziv = ustanova['klasifikacija']['naziv']\n",
    "      ustanovaPocetak = ustanova['pocetak']\n",
    "      ustanovaKraj = ustanova['kraj']\n",
    "\n",
    "      #save each ustanova from projekt\n",
    "      df_ustanova = df_ustanova.append({\n",
    "          'id' :ustanova_id,\n",
    "          'mbu' :mbu,\n",
    "          'ustanovaNaziv' :ustanovaNaziv,\n",
    "          'aaiDomain' :aaiDomain,\n",
    "          'created' :created},\n",
    "          ignore_index=True\n",
    "      )\n",
    "      #save each relation between ustanova and projekt\n",
    "      df_projekt_ustanova = df_projekt_ustanova.append({\n",
    "          'projekt_id' :projekt_id,\n",
    "          'ustanova_id' :ustanova_id,\n",
    "          'amount' :amount,\n",
    "          'currencyCode' :currencyCode,\n",
    "          'klasifikacijaNaziv' :klasifikacijaNaziv,\n",
    "          'pocetak' :ustanovaPocetak,\n",
    "          'kraj' :ustanovaKraj,\n",
    "          'created' :created},\n",
    "          ignore_index=True\n",
    "      )\n",
    "\n",
    "  try:\n",
    "    response['osobeResources']\n",
    "  except:\n",
    "    print('Nema osoba!')\n",
    "  else:\n",
    "    #iterate over all OSOBA from projekt and save to pandas dfs\n",
    "    for osoba in response['osobeResources']['_embedded']['osobe']:\n",
    "      try:\n",
    "        osobaPoirotId = osoba['osobaPoirotId']\n",
    "      except:\n",
    "        osobaPoirotId = \"\"\n",
    "      persId = osoba['persId']\n",
    "      ime = osoba['ime']\n",
    "      prezime = osoba['prezime']\n",
    "      projektnaUloga = osoba['klasifikacija']['naziv']\n",
    "      try:\n",
    "        ustanovaId = osoba['ustanovaId']\n",
    "      except:\n",
    "        ustanovaId = \"\"\n",
    "      pocetak = osoba['pocetak']\n",
    "      kraj = osoba['kraj']\n",
    "\n",
    "      #save each osoba from projekt\n",
    "      df_osoba = df_osoba.append({\n",
    "          'id' :persId,\n",
    "          'osobaPoirotId' :osobaPoirotId,\n",
    "          'ime' :ime,\n",
    "          'prezime' :prezime,\n",
    "          'ustanovaId' :ustanovaId,\n",
    "          'created' :created},\n",
    "          ignore_index=True\n",
    "      )\n",
    "      #save osoba projekt relation\n",
    "      df_osoba_projekt = df_osoba_projekt.append({\n",
    "          'osoba_id' :persId,\n",
    "          'projekt_id' :projekt_id,\n",
    "          'pocetak' :pocetak,\n",
    "          'kraj' :kraj,\n",
    "          'projektnaUloga' :projektnaUloga,\n",
    "          'created' :created},\n",
    "          ignore_index=True\n",
    "      )\n",
    "  #save PROJEKT details to pandas df\n",
    "  df_projekt = df_projekt.append({\n",
    "      'id' :projekt_id,\n",
    "      'projektPoirotId' :projektPoirotId,\n",
    "      'hrSifraProjekta' :hrSifraProjekta,\n",
    "      'tipProjekta_id' :tipProjekta_id,\n",
    "      'acro' :acro,\n",
    "      'pocetak' :pocetak,\n",
    "      'kraj' :kraj,\n",
    "      'currencyCode' :currencyCode,\n",
    "      'totalCost' :totalCost,\n",
    "      'title' :title,\n",
    "      'summary' :summary,\n",
    "      'financijer_id' :financijer_id,\n",
    "      'created' :created},\n",
    "      ignore_index=True\n",
    "  )\n",
    "  #iterate over FINANCIJER and save as pandas df together with relation with projekt\n",
    "  try:\n",
    "    response['financijerResources']\n",
    "  except:\n",
    "    print('Nema financijera!')\n",
    "  else:\n",
    "    for financijer in response['financijerResources']['_embedded']['financijeri']:\n",
    "      financijer_id = financijer['id']\n",
    "      financijerPoirotId = financijer['financijerPoirotId']\n",
    "      entityId = financijer['entityId']\n",
    "      entityNameHr = financijer['entityNameHr']\n",
    "      entityNameEn = financijer['entityNameEn']\n",
    "      vrstaIzvoraFinanciranjaId = financijer['vrstaIzvoraFinanciranjaId']\n",
    "      vrstaIzvoraFinanciranjaName = financijer['vrstaIzvoraFinanciranjaName']\n",
    "      try:\n",
    "        pozivId = financijer['pozivId']\n",
    "      except:\n",
    "        pozivId =\"\"\n",
    "      try:\n",
    "        pozivNaziv = financijer['pozivNaziv']\n",
    "      except:\n",
    "        pozivNaziv =\"\"\n",
    "\n",
    "      #save each financijer from projekt\n",
    "      df_financijer = df_financijer.append({\n",
    "          'id' :financijer_id,\n",
    "          'financijerPoirotId' :financijerPoirotId,\n",
    "          'entityId' :entityId,\n",
    "          'entityNameHr' :entityNameHr,\n",
    "          'entityNameEn' :entityNameEn,\n",
    "          'vrstaIzvoraFinanciranjaId' :vrstaIzvoraFinanciranjaId,\n",
    "          'vrstaIzvoraFinanciranjaName' :vrstaIzvoraFinanciranjaName,\n",
    "          'pozivId' :pozivId,\n",
    "          'pozivNaziv' :pozivNaziv,\n",
    "          'created' :created},\n",
    "          ignore_index=True\n",
    "      )\n",
    "      #save each financijer from projekt\n",
    "      df_projekt_financijer = df_projekt_financijer.append({\n",
    "          'projekt_id' :projekt_id,\n",
    "          'financijer_id' :financijer_id,\n",
    "          'created' :created},\n",
    "          ignore_index=True\n",
    "      )\n",
    "  #save each tip projekta\n",
    "  df_projekt_tip = df_projekt_tip.append({\n",
    "      'projekt_id' :projekt_id,\n",
    "      'tipProjektaId' :tipProjektaId,\n",
    "      'tipProjektaNaziv' :tipProjektaNaziv,\n",
    "      'created' :created},\n",
    "      ignore_index=True\n",
    "  )\n",
    "  return df_ustanova,df_osoba,df_projekt,df_financijer,df_osoba_projekt,df_projekt_financijer,df_projekt_tip,df_projekt_ustanova"
   ]
  },
  {
   "cell_type": "code",
   "execution_count": 285,
   "metadata": {
    "colab": {
     "base_uri": "https://localhost:8080/"
    },
    "id": "W_7mQI9E5Afq",
    "outputId": "6d3735b3-0759-4713-9141-bf61c43de1af"
   },
   "outputs": [
    {
     "data": {
      "text/plain": [
       "525"
      ]
     },
     "execution_count": 285,
     "metadata": {},
     "output_type": "execute_result"
    }
   ],
   "source": [
    "df_projekt['id'].iloc[-1]"
   ]
  },
  {
   "cell_type": "code",
   "execution_count": null,
   "metadata": {
    "id": "2JJhdQNHfEEy"
   },
   "outputs": [],
   "source": [
    "# MAIN\n",
    "\n",
    "err = None\n",
    "last_record = df_projekt['id'].iloc[-1]\n",
    "\n",
    "for id in range(last_record,10001):\n",
    "  # set projekt ID\n",
    "  projekt_id = id\n",
    "  print(id)\n",
    "  # cal function to get the response from Croris API\n",
    "  response, err = get_projekt(projekt_id)\n",
    "  time.sleep(1) #give it a second to rest for df to catch up\n",
    "\n",
    "  # call function populate_dfs() and assign returned dfs to our pandas dfs\n",
    "  df_ustanova,df_osoba,df_projekt,df_financijer,df_osoba_projekt,df_projekt_financijer,df_projekt_tip,df_projekt_ustanova = populate_dfs(response,df_ustanova,df_osoba,df_projekt,df_financijer,df_osoba_projekt,df_projekt_financijer,df_projekt_tip,df_projekt_ustanova)\n",
    "\n",
    "  if err != \"Ne postoji traženi resurs.\":\n",
    "    id = 99999\n",
    "else:\n",
    "  print(\"Finally finished!\")\n",
    "\n",
    "# drop duplicates from all pandas dfs\n",
    "df_ustanova = df_ustanova.drop_duplicates(subset='id', keep='last')\n",
    "df_osoba = df_osoba.drop_duplicates(subset='id', keep='last')\n",
    "df_projekt = df_projekt.drop_duplicates(subset='id', keep='last')\n",
    "df_financijer = df_financijer.drop_duplicates(subset='id', keep='last')\n",
    "df_osoba_projekt = df_osoba_projekt.drop_duplicates(subset=['osoba_id','projekt_id'], keep='last')\n",
    "df_projekt_financijer = df_projekt_financijer.drop_duplicates(subset=['projekt_id','financijer_id'],keep='last')\n",
    "df_projekt_tip = df_projekt_tip.drop_duplicates(subset='projekt_id', keep='last')\n",
    "df_projekt_ustanova = df_projekt_ustanova.drop_duplicates(subset=['projekt_id','ustanova_id'], keep='last')"
   ]
  },
  {
   "cell_type": "code",
   "execution_count": 294,
   "metadata": {
    "id": "npnorpXdhKNL"
   },
   "outputs": [],
   "source": [
    "df_ustanova.to_csv('CRORIS_df_ustanova.csv')\n",
    "df_osoba.to_csv('CRORIS_df_osoba.csv')\n",
    "df_projekt.to_csv('CRORIS_df_projekt.csv')\n",
    "df_financijer.to_csv('CRORIS_df_financijer.csv')\n",
    "df_osoba_projekt.to_csv('CRORIS_df_osoba_projekt.csv')\n",
    "df_projekt_financijer.to_csv('CRORIS_df_projekt_financijer.csv')\n",
    "df_projekt_tip.to_csv('CRORIS_df_projekt_tip.csv')\n",
    "df_projekt_ustanova.to_csv('CRORIS_df_projekt_ustanova.csv')"
   ]
  },
  {
   "cell_type": "markdown",
   "metadata": {
    "id": "TzMziL3ddHog"
   },
   "source": [
    "```\n",
    "# ideja za spremanje svih projekata u jedan pandas df iz kojeg dalje rastavljamo na vise df-ova\n",
    "df_response = pd.DataFrame(columns=['id','response'])\n",
    "df_response = df_response.append({\n",
    "    'id' :projekt_id,\n",
    "    'response' :response},\n",
    "    ignore_index=True\n",
    ")\n",
    "df_response['response'][0]\n",
    "\n",
    "# sa svakim upitom vrati se osoba, ali i popis svih projekata na kojima je ta osoba, medutim nasa relacijska tablica trazi i parametre poput pocetak i kraj, a ovdje imamo samo url, tj. id\n",
    "for projekt in response['osobeResources']['_embedded']['osobe'][0]['_links']['projekt']:\n",
    "  projekt_url = projekt['href']\n",
    "  drugi_projekt_id = str(projekt_url).split(\"projekt/\")[1]\n",
    "  print(projekt_url)\n",
    "  print(drugi_projekt_id)\n",
    "\n",
    "```"
   ]
  }
 ],
 "metadata": {
  "colab": {
   "collapsed_sections": [],
   "name": "CRORIS-API.ipynb",
   "provenance": []
  },
  "kernelspec": {
   "display_name": "Python 3 (ipykernel)",
   "language": "python",
   "name": "python3"
  },
  "language_info": {
   "codemirror_mode": {
    "name": "ipython",
    "version": 3
   },
   "file_extension": ".py",
   "mimetype": "text/x-python",
   "name": "python",
   "nbconvert_exporter": "python",
   "pygments_lexer": "ipython3",
   "version": "3.8.9"
  }
 },
 "nbformat": 4,
 "nbformat_minor": 1
}
