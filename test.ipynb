{
 "cells": [
  {
   "cell_type": "code",
   "execution_count": 2,
   "metadata": {},
   "outputs": [
    {
     "name": "stdout",
     "output_type": "stream",
     "text": [
      "There is a statistically significant difference in the mean counts among the different publishers.\n"
     ]
    }
   ],
   "source": [
    "import scipy.stats as stats\n",
    "\n",
    "# input the counts for each publisher for each concept\n",
    "data = [[0, 1, 0, 0], [1, 0, 0, 0], [0, 0, 0, 0], [0, 1, 0, 0], [0, 0, 0, 0], [0, 0, 0, 0], [0, 0, 0, 0], [0, 0, 0, 0], [0, 0, 0, 0], [1, 2, 0, 0], [0, 0, 0, 0], [0, 0, 0, 0], [0, 0, 0, 0], [0, 0, 0, 0], [0, 0, 0, 0], [0, 0, 0, 0], [0, 0, 0, 0], [0, 0, 0, 0], [0, 0, 0, 0], [0, 0, 0, 0], [0, 0, 0, 0], [2, 1, 1, 0], [1, 3, 1, 0], [1, 0, 0, 0], [9, 0, 0, 0], [1, 1, 0, 0], [0, 1, 0, 0], [38, 26, 21, 0], [0, 0, 0, 0], [0, 1, 0, 0], [1, 2, 0, 0] ]\n",
    "\n",
    "# perform the Kruskal-Wallis test\n",
    "test_statistic, p_value = stats.kruskal(*data)\n",
    "\n",
    "significance_level = 0.05\n",
    "# interpret the results\n",
    "if p_value < significance_level:\n",
    "    print(\"There is a statistically significant difference in the mean counts among the different publishers.\")\n",
    "else:\n",
    "    print(\"There is not a statistically significant difference in the mean counts among the different publishers.\")"
   ]
  }
 ],
 "metadata": {
  "kernelspec": {
   "display_name": "Python 3.8.9 64-bit",
   "language": "python",
   "name": "python3"
  },
  "language_info": {
   "codemirror_mode": {
    "name": "ipython",
    "version": 3
   },
   "file_extension": ".py",
   "mimetype": "text/x-python",
   "name": "python",
   "nbconvert_exporter": "python",
   "pygments_lexer": "ipython3",
   "version": "3.8.9"
  },
  "orig_nbformat": 4,
  "vscode": {
   "interpreter": {
    "hash": "31f2aee4e71d21fbe5cf8b01ff0e069b9275f58929596ceb00d14d90e3e16cd6"
   }
  }
 },
 "nbformat": 4,
 "nbformat_minor": 2
}
