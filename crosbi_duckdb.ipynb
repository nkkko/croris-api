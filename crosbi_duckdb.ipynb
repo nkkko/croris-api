{
 "cells": [
  {
   "cell_type": "code",
   "execution_count": 1,
   "metadata": {},
   "outputs": [],
   "source": [
    "import duckdb\n",
    "import pickle\n",
    "import os"
   ]
  },
  {
   "cell_type": "code",
   "execution_count": 2,
   "metadata": {},
   "outputs": [],
   "source": [
    "%load_ext sql"
   ]
  },
  {
   "cell_type": "code",
   "execution_count": 4,
   "metadata": {},
   "outputs": [
    {
     "name": "stdout",
     "output_type": "stream",
     "text": [
      "Creating new database file.\n",
      "Error: Not implemented Error: Please provide an index name, e.g., CREATE INDEX my_name ...\n",
      "Failed to create or load DuckDB table.\n"
     ]
    }
   ],
   "source": [
    "file_path = \"/Users/nikola/Downloads/publications.pkl\"\n",
    "\n",
    "# Specify the file path to persist the database\n",
    "database_file = 'publications.db'\n",
    "\n",
    "def add_primary_key(con, table_name, column_name):\n",
    "    con.execute(f\"CREATE UNIQUE INDEX ON {table_name} ({column_name});\")\n",
    "\n",
    "def load_publications(file_path):\n",
    "    try:\n",
    "        publications = []\n",
    "        with open(file_path, 'rb') as file:\n",
    "            while True:\n",
    "                try:\n",
    "                    batch = pickle.load(file)\n",
    "                    publications.extend(batch)\n",
    "                except EOFError:\n",
    "                    break\n",
    "        return publications\n",
    "    except IOError as e:\n",
    "        print(f\"Error: {str(e)}\")\n",
    "        return None\n",
    "\n",
    "def create_duckdb_table():\n",
    "    try:\n",
    "        # Check if the database file already exists\n",
    "        if os.path.exists(database_file):\n",
    "            con = duckdb.connect(database=database_file)\n",
    "            print(\"Using existing database file.\")\n",
    "        else:\n",
    "            con = duckdb.connect(database=database_file)\n",
    "            print(\"Creating new database file.\")\n",
    "\n",
    "        # Check if the table already exists\n",
    "        con.execute(\"SHOW TABLES;\")\n",
    "        tables = [row[0] for row in con.fetchall()]\n",
    "        if \"publications\" not in tables:\n",
    "            publications = load_publications(file_path)\n",
    "\n",
    "            # Get the column names from the first publication\n",
    "            columns = list(publications[0].keys())\n",
    "\n",
    "            # Create the CREATE TABLE statement dynamically\n",
    "            create_table_stmt = \"CREATE TABLE publications (\"\n",
    "            create_table_stmt += \", \".join([f\"{col} VARCHAR\" for col in columns])\n",
    "            create_table_stmt += \")\"\n",
    "\n",
    "            con.execute(create_table_stmt)\n",
    "\n",
    "            # Insert the publications data into the table\n",
    "            for publication in publications:\n",
    "                values = [str(publication.get(col, '')) for col in columns]\n",
    "                insert_stmt = f\"INSERT INTO publications VALUES ({','.join(['?' for _ in values])})\"\n",
    "                con.execute(insert_stmt, values)\n",
    "\n",
    "            # Add a primary key constraint to the table\n",
    "            add_primary_key(con, \"publications\", \"crosbiId\")\n",
    "\n",
    "        return con\n",
    "    except Exception as e:\n",
    "        print(f\"Error: {str(e)}\")\n",
    "        return None\n",
    "\n",
    "con = create_duckdb_table()\n",
    "if con is not None:\n",
    "    print(\"DuckDB table created or loaded successfully.\")\n",
    "else:\n",
    "    print(\"Failed to create or load DuckDB table.\")"
   ]
  },
  {
   "cell_type": "code",
   "execution_count": 9,
   "metadata": {},
   "outputs": [],
   "source": [
    "con = duckdb.connect(database='publications.db')"
   ]
  },
  {
   "cell_type": "code",
   "execution_count": 21,
   "metadata": {},
   "outputs": [
    {
     "data": {
      "text/plain": [
       "<duckdb.duckdb.DuckDBPyConnection at 0x4c3be37b0>"
      ]
     },
     "execution_count": 21,
     "metadata": {},
     "output_type": "execute_result"
    }
   ],
   "source": [
    "con.execute(f\"CREATE INDEX publications_crosbiid_idx ON publications (crosbiId);\")"
   ]
  },
  {
   "cell_type": "code",
   "execution_count": 20,
   "metadata": {},
   "outputs": [
    {
     "data": {
      "text/html": [
       "<span style=\"None\">Running query in &#x27;duckdb:///publications.db&#x27;</span>"
      ],
      "text/plain": [
       "Running query in 'duckdb:///publications.db'"
      ]
     },
     "metadata": {},
     "output_type": "display_data"
    },
    {
     "data": {
      "text/html": [
       "<table>\n",
       "    <thead>\n",
       "        <tr>\n",
       "            <th>crosbiId</th>\n",
       "            <th>bibIrbId</th>\n",
       "            <th>autori</th>\n",
       "            <th>naslov</th>\n",
       "            <th>vrsta</th>\n",
       "            <th>tip</th>\n",
       "            <th>godina</th>\n",
       "            <th>nadredenaPublikacija</th>\n",
       "            <th>casopis</th>\n",
       "            <th>volumen</th>\n",
       "            <th>svescic</th>\n",
       "            <th>stranice</th>\n",
       "            <th>doi</th>\n",
       "            <th>issn</th>\n",
       "            <th>indeksiranost</th>\n",
       "            <th>citati</th>\n",
       "            <th>naslovi</th>\n",
       "            <th>sazeci</th>\n",
       "            <th>kljucneRijeci</th>\n",
       "            <th>poveznice</th>\n",
       "            <th>osobeResources</th>\n",
       "            <th>ustanoveResources</th>\n",
       "            <th>_links</th>\n",
       "        </tr>\n",
       "    </thead>\n",
       "    <tbody>\n",
       "        <tr>\n",
       "            <td>795775</td>\n",
       "            <td></td>\n",
       "            <td></td>\n",
       "            <td>Solid-State Science & Research Book of Abstracts and Programme 2023</td>\n",
       "            <td>urednička knjiga</td>\n",
       "            <td>zbornik sažetaka s konferencije</td>\n",
       "            <td>2023</td>\n",
       "            <td>Mechanochemical synthesis of some transition metal polycyanometallates</td>\n",
       "            <td></td>\n",
       "            <td></td>\n",
       "            <td></td>\n",
       "            <td></td>\n",
       "            <td></td>\n",
       "            <td></td>\n",
       "            <td></td>\n",
       "            <td>[{'vrstaCitataId': 1040, 'vrstaCitataNaziv': 'CROSBI', 'citat': 'Solid-State Science & Research Book of Abstracts and Programme 2023 / Biliškov, Nikola; Karadeniz, Bahar; Juraj Pantalon, Natalija (ur.) \\nZagreb: Institut Ruđer Bošković, 2023'}]</td>\n",
       "            <td>[{'cfLangCode': 'en', 'naziv': 'Solid-State Science & Research Book of Abstracts and Programme 2023', 'original': True, 'cfTrans': 'o'}]</td>\n",
       "            <td>[{'cfLangCode': 'en', 'naziv': 'Book of abstracts and programme for the Solid-State Science & Research conference held 28-30 June 2023', 'original': True, 'cfTrans': 'o'}]</td>\n",
       "            <td>[{'cfLangCode': 'en', 'naziv': 'solid ; state ; science ; book ; abstracts ; 2023', 'original': True, 'cfTrans': 'o'}]</td>\n",
       "            <td>[{'urlId': 235635, 'urlVrstaId': 990, 'urlVrstaNaziv': 'URL rada koji je dostupan u otvorenom pristupu', 'url': 'https://drive.google.com/file/d/1Cp1XNoxnVxPTpc-7EX0pLmUyipgW-Z34/view'}]</td>\n",
       "            <td>{'_embedded': {'osobe': [{'crorisId': 34243, 'titulaIspredImena': 'dr. sc.', 'ime': 'Bahar', 'prezime': 'Karadeniz', 'funkcija': {'id': 906, 'naziv': 'urednik/ci'}, '_links': {'self': {'href': 'https://croris.hr/crosbi-api/osoba/34243'}}}, {'crorisId': 2422, 'titulaIspredImena': 'dr. sc.', 'ime': 'Nikola', 'prezime': 'Biliškov', 'funkcija': {'id': 906, 'naziv': 'urednik/ci'}, '_links': {'self': {'href': 'https://croris.hr/crosbi-api/osoba/2422'}}}]}}</td>\n",
       "            <td>{'_embedded': {'ustanove': [{'crorisId': 66, 'naziv': 'Institut Ruđer Bošković', 'mbu': 98, 'funkcija': {'id': 955, 'naziv': 'ustanova urednika'}, '_links': {'self': {'href': 'https://croris.hr/crosbi-api/ustanova/66'}}}]}}</td>\n",
       "            <td>{'osobe': {'href': 'https://croris.hr/crosbi-api/osoba/publikacija/795775'}, 'ustanove': {'href': 'https://croris.hr/crosbi-api/ustanova/publikacija/795775'}, 'self': {'href': 'https://croris.hr/crosbi-api/publikacija/795775'}}</td>\n",
       "        </tr>\n",
       "        <tr>\n",
       "            <td>795775</td>\n",
       "            <td></td>\n",
       "            <td></td>\n",
       "            <td>Solid-State Science & Research Book of Abstracts and Programme 2023</td>\n",
       "            <td>urednička knjiga</td>\n",
       "            <td>zbornik sažetaka s konferencije</td>\n",
       "            <td>2023</td>\n",
       "            <td>Advantages of crosslinking self-assembled molecular layers on metal surfaces</td>\n",
       "            <td></td>\n",
       "            <td></td>\n",
       "            <td></td>\n",
       "            <td></td>\n",
       "            <td></td>\n",
       "            <td></td>\n",
       "            <td></td>\n",
       "            <td>[{'vrstaCitataId': 1040, 'vrstaCitataNaziv': 'CROSBI', 'citat': 'Solid-State Science & Research Book of Abstracts and Programme 2023 / Biliškov, Nikola; Karadeniz, Bahar; Juraj Pantalon, Natalija (ur.) \\nZagreb: Institut Ruđer Bošković, 2023'}]</td>\n",
       "            <td>[{'cfLangCode': 'en', 'naziv': 'Solid-State Science & Research Book of Abstracts and Programme 2023', 'original': True, 'cfTrans': 'o'}]</td>\n",
       "            <td>[{'cfLangCode': 'en', 'naziv': 'Book of abstracts and programme for the Solid-State Science & Research conference held 28-30 June 2023', 'original': True, 'cfTrans': 'o'}]</td>\n",
       "            <td>[{'cfLangCode': 'en', 'naziv': 'solid ; state ; science ; book ; abstracts ; 2023', 'original': True, 'cfTrans': 'o'}]</td>\n",
       "            <td>[{'urlId': 235635, 'urlVrstaId': 990, 'urlVrstaNaziv': 'URL rada koji je dostupan u otvorenom pristupu', 'url': 'https://drive.google.com/file/d/1Cp1XNoxnVxPTpc-7EX0pLmUyipgW-Z34/view'}]</td>\n",
       "            <td>{'_embedded': {'osobe': [{'crorisId': 34243, 'titulaIspredImena': 'dr. sc.', 'ime': 'Bahar', 'prezime': 'Karadeniz', 'funkcija': {'id': 906, 'naziv': 'urednik/ci'}, '_links': {'self': {'href': 'https://croris.hr/crosbi-api/osoba/34243'}}}, {'crorisId': 2422, 'titulaIspredImena': 'dr. sc.', 'ime': 'Nikola', 'prezime': 'Biliškov', 'funkcija': {'id': 906, 'naziv': 'urednik/ci'}, '_links': {'self': {'href': 'https://croris.hr/crosbi-api/osoba/2422'}}}]}}</td>\n",
       "            <td>{'_embedded': {'ustanove': [{'crorisId': 66, 'naziv': 'Institut Ruđer Bošković', 'mbu': 98, 'funkcija': {'id': 955, 'naziv': 'ustanova urednika'}, '_links': {'self': {'href': 'https://croris.hr/crosbi-api/ustanova/66'}}}]}}</td>\n",
       "            <td>{'osobe': {'href': 'https://croris.hr/crosbi-api/osoba/publikacija/795775'}, 'ustanove': {'href': 'https://croris.hr/crosbi-api/ustanova/publikacija/795775'}, 'self': {'href': 'https://croris.hr/crosbi-api/publikacija/795775'}}</td>\n",
       "        </tr>\n",
       "        <tr>\n",
       "            <td>795775</td>\n",
       "            <td></td>\n",
       "            <td></td>\n",
       "            <td>Solid-State Science & Research Book of Abstracts and Programme 2023</td>\n",
       "            <td>urednička knjiga</td>\n",
       "            <td>zbornik sažetaka s konferencije</td>\n",
       "            <td>2023</td>\n",
       "            <td>Structural and magnetic study of MOF-74 isophthalic homologues</td>\n",
       "            <td></td>\n",
       "            <td></td>\n",
       "            <td></td>\n",
       "            <td></td>\n",
       "            <td></td>\n",
       "            <td></td>\n",
       "            <td></td>\n",
       "            <td>[{'vrstaCitataId': 1040, 'vrstaCitataNaziv': 'CROSBI', 'citat': 'Solid-State Science & Research Book of Abstracts and Programme 2023 / Biliškov, Nikola; Karadeniz, Bahar; Juraj Pantalon, Natalija (ur.) \\nZagreb: Institut Ruđer Bošković, 2023'}]</td>\n",
       "            <td>[{'cfLangCode': 'en', 'naziv': 'Solid-State Science & Research Book of Abstracts and Programme 2023', 'original': True, 'cfTrans': 'o'}]</td>\n",
       "            <td>[{'cfLangCode': 'en', 'naziv': 'Book of abstracts and programme for the Solid-State Science & Research conference held 28-30 June 2023', 'original': True, 'cfTrans': 'o'}]</td>\n",
       "            <td>[{'cfLangCode': 'en', 'naziv': 'solid ; state ; science ; book ; abstracts ; 2023', 'original': True, 'cfTrans': 'o'}]</td>\n",
       "            <td>[{'urlId': 235635, 'urlVrstaId': 990, 'urlVrstaNaziv': 'URL rada koji je dostupan u otvorenom pristupu', 'url': 'https://drive.google.com/file/d/1Cp1XNoxnVxPTpc-7EX0pLmUyipgW-Z34/view'}]</td>\n",
       "            <td>{'_embedded': {'osobe': [{'crorisId': 34243, 'titulaIspredImena': 'dr. sc.', 'ime': 'Bahar', 'prezime': 'Karadeniz', 'funkcija': {'id': 906, 'naziv': 'urednik/ci'}, '_links': {'self': {'href': 'https://croris.hr/crosbi-api/osoba/34243'}}}, {'crorisId': 2422, 'titulaIspredImena': 'dr. sc.', 'ime': 'Nikola', 'prezime': 'Biliškov', 'funkcija': {'id': 906, 'naziv': 'urednik/ci'}, '_links': {'self': {'href': 'https://croris.hr/crosbi-api/osoba/2422'}}}]}}</td>\n",
       "            <td>{'_embedded': {'ustanove': [{'crorisId': 66, 'naziv': 'Institut Ruđer Bošković', 'mbu': 98, 'funkcija': {'id': 955, 'naziv': 'ustanova urednika'}, '_links': {'self': {'href': 'https://croris.hr/crosbi-api/ustanova/66'}}}]}}</td>\n",
       "            <td>{'osobe': {'href': 'https://croris.hr/crosbi-api/osoba/publikacija/795775'}, 'ustanove': {'href': 'https://croris.hr/crosbi-api/ustanova/publikacija/795775'}, 'self': {'href': 'https://croris.hr/crosbi-api/publikacija/795775'}}</td>\n",
       "        </tr>\n",
       "        <tr>\n",
       "            <td>795775</td>\n",
       "            <td></td>\n",
       "            <td></td>\n",
       "            <td>Solid-State Science & Research Book of Abstracts and Programme 2023</td>\n",
       "            <td>urednička knjiga</td>\n",
       "            <td>zbornik sažetaka s konferencije</td>\n",
       "            <td>2023</td>\n",
       "            <td>Green and scalable synthesis of alkali metal dhta polymers</td>\n",
       "            <td></td>\n",
       "            <td></td>\n",
       "            <td></td>\n",
       "            <td></td>\n",
       "            <td></td>\n",
       "            <td></td>\n",
       "            <td></td>\n",
       "            <td>[{'vrstaCitataId': 1040, 'vrstaCitataNaziv': 'CROSBI', 'citat': 'Solid-State Science & Research Book of Abstracts and Programme 2023 / Biliškov, Nikola; Karadeniz, Bahar; Juraj Pantalon, Natalija (ur.) \\nZagreb: Institut Ruđer Bošković, 2023'}]</td>\n",
       "            <td>[{'cfLangCode': 'en', 'naziv': 'Solid-State Science & Research Book of Abstracts and Programme 2023', 'original': True, 'cfTrans': 'o'}]</td>\n",
       "            <td>[{'cfLangCode': 'en', 'naziv': 'Book of abstracts and programme for the Solid-State Science & Research conference held 28-30 June 2023', 'original': True, 'cfTrans': 'o'}]</td>\n",
       "            <td>[{'cfLangCode': 'en', 'naziv': 'solid ; state ; science ; book ; abstracts ; 2023', 'original': True, 'cfTrans': 'o'}]</td>\n",
       "            <td>[{'urlId': 235635, 'urlVrstaId': 990, 'urlVrstaNaziv': 'URL rada koji je dostupan u otvorenom pristupu', 'url': 'https://drive.google.com/file/d/1Cp1XNoxnVxPTpc-7EX0pLmUyipgW-Z34/view'}]</td>\n",
       "            <td>{'_embedded': {'osobe': [{'crorisId': 34243, 'titulaIspredImena': 'dr. sc.', 'ime': 'Bahar', 'prezime': 'Karadeniz', 'funkcija': {'id': 906, 'naziv': 'urednik/ci'}, '_links': {'self': {'href': 'https://croris.hr/crosbi-api/osoba/34243'}}}, {'crorisId': 2422, 'titulaIspredImena': 'dr. sc.', 'ime': 'Nikola', 'prezime': 'Biliškov', 'funkcija': {'id': 906, 'naziv': 'urednik/ci'}, '_links': {'self': {'href': 'https://croris.hr/crosbi-api/osoba/2422'}}}]}}</td>\n",
       "            <td>{'_embedded': {'ustanove': [{'crorisId': 66, 'naziv': 'Institut Ruđer Bošković', 'mbu': 98, 'funkcija': {'id': 955, 'naziv': 'ustanova urednika'}, '_links': {'self': {'href': 'https://croris.hr/crosbi-api/ustanova/66'}}}]}}</td>\n",
       "            <td>{'osobe': {'href': 'https://croris.hr/crosbi-api/osoba/publikacija/795775'}, 'ustanove': {'href': 'https://croris.hr/crosbi-api/ustanova/publikacija/795775'}, 'self': {'href': 'https://croris.hr/crosbi-api/publikacija/795775'}}</td>\n",
       "        </tr>\n",
       "        <tr>\n",
       "            <td>795775</td>\n",
       "            <td></td>\n",
       "            <td></td>\n",
       "            <td>Solid-State Science & Research Book of Abstracts and Programme 2023</td>\n",
       "            <td>urednička knjiga</td>\n",
       "            <td>zbornik sažetaka s konferencije</td>\n",
       "            <td>2023</td>\n",
       "            <td>Fabrication of solar-active materials for environmental technologies</td>\n",
       "            <td></td>\n",
       "            <td></td>\n",
       "            <td></td>\n",
       "            <td></td>\n",
       "            <td></td>\n",
       "            <td></td>\n",
       "            <td></td>\n",
       "            <td>[{'vrstaCitataId': 1040, 'vrstaCitataNaziv': 'CROSBI', 'citat': 'Solid-State Science & Research Book of Abstracts and Programme 2023 / Biliškov, Nikola; Karadeniz, Bahar; Juraj Pantalon, Natalija (ur.) \\nZagreb: Institut Ruđer Bošković, 2023'}]</td>\n",
       "            <td>[{'cfLangCode': 'en', 'naziv': 'Solid-State Science & Research Book of Abstracts and Programme 2023', 'original': True, 'cfTrans': 'o'}]</td>\n",
       "            <td>[{'cfLangCode': 'en', 'naziv': 'Book of abstracts and programme for the Solid-State Science & Research conference held 28-30 June 2023', 'original': True, 'cfTrans': 'o'}]</td>\n",
       "            <td>[{'cfLangCode': 'en', 'naziv': 'solid ; state ; science ; book ; abstracts ; 2023', 'original': True, 'cfTrans': 'o'}]</td>\n",
       "            <td>[{'urlId': 235635, 'urlVrstaId': 990, 'urlVrstaNaziv': 'URL rada koji je dostupan u otvorenom pristupu', 'url': 'https://drive.google.com/file/d/1Cp1XNoxnVxPTpc-7EX0pLmUyipgW-Z34/view'}]</td>\n",
       "            <td>{'_embedded': {'osobe': [{'crorisId': 34243, 'titulaIspredImena': 'dr. sc.', 'ime': 'Bahar', 'prezime': 'Karadeniz', 'funkcija': {'id': 906, 'naziv': 'urednik/ci'}, '_links': {'self': {'href': 'https://croris.hr/crosbi-api/osoba/34243'}}}, {'crorisId': 2422, 'titulaIspredImena': 'dr. sc.', 'ime': 'Nikola', 'prezime': 'Biliškov', 'funkcija': {'id': 906, 'naziv': 'urednik/ci'}, '_links': {'self': {'href': 'https://croris.hr/crosbi-api/osoba/2422'}}}]}}</td>\n",
       "            <td>{'_embedded': {'ustanove': [{'crorisId': 66, 'naziv': 'Institut Ruđer Bošković', 'mbu': 98, 'funkcija': {'id': 955, 'naziv': 'ustanova urednika'}, '_links': {'self': {'href': 'https://croris.hr/crosbi-api/ustanova/66'}}}]}}</td>\n",
       "            <td>{'osobe': {'href': 'https://croris.hr/crosbi-api/osoba/publikacija/795775'}, 'ustanove': {'href': 'https://croris.hr/crosbi-api/ustanova/publikacija/795775'}, 'self': {'href': 'https://croris.hr/crosbi-api/publikacija/795775'}}</td>\n",
       "        </tr>\n",
       "        <tr>\n",
       "            <td>795775</td>\n",
       "            <td></td>\n",
       "            <td></td>\n",
       "            <td>Solid-State Science & Research Book of Abstracts and Programme 2023</td>\n",
       "            <td>urednička knjiga</td>\n",
       "            <td>zbornik sažetaka s konferencije</td>\n",
       "            <td>2023</td>\n",
       "            <td>Gas adsorption by FAU zeolite modified with mechanochemicaly synthesized polycyanometallates</td>\n",
       "            <td></td>\n",
       "            <td></td>\n",
       "            <td></td>\n",
       "            <td></td>\n",
       "            <td></td>\n",
       "            <td></td>\n",
       "            <td></td>\n",
       "            <td>[{'vrstaCitataId': 1040, 'vrstaCitataNaziv': 'CROSBI', 'citat': 'Solid-State Science & Research Book of Abstracts and Programme 2023 / Biliškov, Nikola; Karadeniz, Bahar; Juraj Pantalon, Natalija (ur.) \\nZagreb: Institut Ruđer Bošković, 2023'}]</td>\n",
       "            <td>[{'cfLangCode': 'en', 'naziv': 'Solid-State Science & Research Book of Abstracts and Programme 2023', 'original': True, 'cfTrans': 'o'}]</td>\n",
       "            <td>[{'cfLangCode': 'en', 'naziv': 'Book of abstracts and programme for the Solid-State Science & Research conference held 28-30 June 2023', 'original': True, 'cfTrans': 'o'}]</td>\n",
       "            <td>[{'cfLangCode': 'en', 'naziv': 'solid ; state ; science ; book ; abstracts ; 2023', 'original': True, 'cfTrans': 'o'}]</td>\n",
       "            <td>[{'urlId': 235635, 'urlVrstaId': 990, 'urlVrstaNaziv': 'URL rada koji je dostupan u otvorenom pristupu', 'url': 'https://drive.google.com/file/d/1Cp1XNoxnVxPTpc-7EX0pLmUyipgW-Z34/view'}]</td>\n",
       "            <td>{'_embedded': {'osobe': [{'crorisId': 34243, 'titulaIspredImena': 'dr. sc.', 'ime': 'Bahar', 'prezime': 'Karadeniz', 'funkcija': {'id': 906, 'naziv': 'urednik/ci'}, '_links': {'self': {'href': 'https://croris.hr/crosbi-api/osoba/34243'}}}, {'crorisId': 2422, 'titulaIspredImena': 'dr. sc.', 'ime': 'Nikola', 'prezime': 'Biliškov', 'funkcija': {'id': 906, 'naziv': 'urednik/ci'}, '_links': {'self': {'href': 'https://croris.hr/crosbi-api/osoba/2422'}}}]}}</td>\n",
       "            <td>{'_embedded': {'ustanove': [{'crorisId': 66, 'naziv': 'Institut Ruđer Bošković', 'mbu': 98, 'funkcija': {'id': 955, 'naziv': 'ustanova urednika'}, '_links': {'self': {'href': 'https://croris.hr/crosbi-api/ustanova/66'}}}]}}</td>\n",
       "            <td>{'osobe': {'href': 'https://croris.hr/crosbi-api/osoba/publikacija/795775'}, 'ustanove': {'href': 'https://croris.hr/crosbi-api/ustanova/publikacija/795775'}, 'self': {'href': 'https://croris.hr/crosbi-api/publikacija/795775'}}</td>\n",
       "        </tr>\n",
       "        <tr>\n",
       "            <td>795775</td>\n",
       "            <td></td>\n",
       "            <td></td>\n",
       "            <td>Solid-State Science & Research Book of Abstracts and Programme 2023</td>\n",
       "            <td>urednička knjiga</td>\n",
       "            <td>zbornik sažetaka s konferencije</td>\n",
       "            <td>2023</td>\n",
       "            <td>Mechanochemical modification of FAU zeolite with transition metal iodides and its gas adsorption properties</td>\n",
       "            <td></td>\n",
       "            <td></td>\n",
       "            <td></td>\n",
       "            <td></td>\n",
       "            <td></td>\n",
       "            <td></td>\n",
       "            <td></td>\n",
       "            <td>[{'vrstaCitataId': 1040, 'vrstaCitataNaziv': 'CROSBI', 'citat': 'Solid-State Science & Research Book of Abstracts and Programme 2023 / Biliškov, Nikola; Karadeniz, Bahar; Juraj Pantalon, Natalija (ur.) \\nZagreb: Institut Ruđer Bošković, 2023'}]</td>\n",
       "            <td>[{'cfLangCode': 'en', 'naziv': 'Solid-State Science & Research Book of Abstracts and Programme 2023', 'original': True, 'cfTrans': 'o'}]</td>\n",
       "            <td>[{'cfLangCode': 'en', 'naziv': 'Book of abstracts and programme for the Solid-State Science & Research conference held 28-30 June 2023', 'original': True, 'cfTrans': 'o'}]</td>\n",
       "            <td>[{'cfLangCode': 'en', 'naziv': 'solid ; state ; science ; book ; abstracts ; 2023', 'original': True, 'cfTrans': 'o'}]</td>\n",
       "            <td>[{'urlId': 235635, 'urlVrstaId': 990, 'urlVrstaNaziv': 'URL rada koji je dostupan u otvorenom pristupu', 'url': 'https://drive.google.com/file/d/1Cp1XNoxnVxPTpc-7EX0pLmUyipgW-Z34/view'}]</td>\n",
       "            <td>{'_embedded': {'osobe': [{'crorisId': 34243, 'titulaIspredImena': 'dr. sc.', 'ime': 'Bahar', 'prezime': 'Karadeniz', 'funkcija': {'id': 906, 'naziv': 'urednik/ci'}, '_links': {'self': {'href': 'https://croris.hr/crosbi-api/osoba/34243'}}}, {'crorisId': 2422, 'titulaIspredImena': 'dr. sc.', 'ime': 'Nikola', 'prezime': 'Biliškov', 'funkcija': {'id': 906, 'naziv': 'urednik/ci'}, '_links': {'self': {'href': 'https://croris.hr/crosbi-api/osoba/2422'}}}]}}</td>\n",
       "            <td>{'_embedded': {'ustanove': [{'crorisId': 66, 'naziv': 'Institut Ruđer Bošković', 'mbu': 98, 'funkcija': {'id': 955, 'naziv': 'ustanova urednika'}, '_links': {'self': {'href': 'https://croris.hr/crosbi-api/ustanova/66'}}}]}}</td>\n",
       "            <td>{'osobe': {'href': 'https://croris.hr/crosbi-api/osoba/publikacija/795775'}, 'ustanove': {'href': 'https://croris.hr/crosbi-api/ustanova/publikacija/795775'}, 'self': {'href': 'https://croris.hr/crosbi-api/publikacija/795775'}}</td>\n",
       "        </tr>\n",
       "        <tr>\n",
       "            <td>795775</td>\n",
       "            <td></td>\n",
       "            <td></td>\n",
       "            <td>Solid-State Science & Research Book of Abstracts and Programme 2023</td>\n",
       "            <td>urednička knjiga</td>\n",
       "            <td>zbornik sažetaka s konferencije</td>\n",
       "            <td>2023</td>\n",
       "            <td>The Mixed Glass Former Effect: A Pathway to Enhanced Conductivity in Na2O-ZnO-P2O5-Nb2O5 glass-(ceramics)</td>\n",
       "            <td></td>\n",
       "            <td></td>\n",
       "            <td></td>\n",
       "            <td></td>\n",
       "            <td></td>\n",
       "            <td></td>\n",
       "            <td></td>\n",
       "            <td>[{'vrstaCitataId': 1040, 'vrstaCitataNaziv': 'CROSBI', 'citat': 'Solid-State Science & Research Book of Abstracts and Programme 2023 / Biliškov, Nikola; Karadeniz, Bahar; Juraj Pantalon, Natalija (ur.) \\nZagreb: Institut Ruđer Bošković, 2023'}]</td>\n",
       "            <td>[{'cfLangCode': 'en', 'naziv': 'Solid-State Science & Research Book of Abstracts and Programme 2023', 'original': True, 'cfTrans': 'o'}]</td>\n",
       "            <td>[{'cfLangCode': 'en', 'naziv': 'Book of abstracts and programme for the Solid-State Science & Research conference held 28-30 June 2023', 'original': True, 'cfTrans': 'o'}]</td>\n",
       "            <td>[{'cfLangCode': 'en', 'naziv': 'solid ; state ; science ; book ; abstracts ; 2023', 'original': True, 'cfTrans': 'o'}]</td>\n",
       "            <td>[{'urlId': 235635, 'urlVrstaId': 990, 'urlVrstaNaziv': 'URL rada koji je dostupan u otvorenom pristupu', 'url': 'https://drive.google.com/file/d/1Cp1XNoxnVxPTpc-7EX0pLmUyipgW-Z34/view'}]</td>\n",
       "            <td>{'_embedded': {'osobe': [{'crorisId': 34243, 'titulaIspredImena': 'dr. sc.', 'ime': 'Bahar', 'prezime': 'Karadeniz', 'funkcija': {'id': 906, 'naziv': 'urednik/ci'}, '_links': {'self': {'href': 'https://croris.hr/crosbi-api/osoba/34243'}}}, {'crorisId': 2422, 'titulaIspredImena': 'dr. sc.', 'ime': 'Nikola', 'prezime': 'Biliškov', 'funkcija': {'id': 906, 'naziv': 'urednik/ci'}, '_links': {'self': {'href': 'https://croris.hr/crosbi-api/osoba/2422'}}}]}}</td>\n",
       "            <td>{'_embedded': {'ustanove': [{'crorisId': 66, 'naziv': 'Institut Ruđer Bošković', 'mbu': 98, 'funkcija': {'id': 955, 'naziv': 'ustanova urednika'}, '_links': {'self': {'href': 'https://croris.hr/crosbi-api/ustanova/66'}}}]}}</td>\n",
       "            <td>{'osobe': {'href': 'https://croris.hr/crosbi-api/osoba/publikacija/795775'}, 'ustanove': {'href': 'https://croris.hr/crosbi-api/ustanova/publikacija/795775'}, 'self': {'href': 'https://croris.hr/crosbi-api/publikacija/795775'}}</td>\n",
       "        </tr>\n",
       "        <tr>\n",
       "            <td>795775</td>\n",
       "            <td></td>\n",
       "            <td></td>\n",
       "            <td>Solid-State Science & Research Book of Abstracts and Programme 2023</td>\n",
       "            <td>urednička knjiga</td>\n",
       "            <td>zbornik sažetaka s konferencije</td>\n",
       "            <td>2023</td>\n",
       "            <td>Monometallic and bimetallic MOF-74 materials based on structural isomers as linkers</td>\n",
       "            <td></td>\n",
       "            <td></td>\n",
       "            <td></td>\n",
       "            <td></td>\n",
       "            <td></td>\n",
       "            <td></td>\n",
       "            <td></td>\n",
       "            <td>[{'vrstaCitataId': 1040, 'vrstaCitataNaziv': 'CROSBI', 'citat': 'Solid-State Science & Research Book of Abstracts and Programme 2023 / Biliškov, Nikola; Karadeniz, Bahar; Juraj Pantalon, Natalija (ur.) \\nZagreb: Institut Ruđer Bošković, 2023'}]</td>\n",
       "            <td>[{'cfLangCode': 'en', 'naziv': 'Solid-State Science & Research Book of Abstracts and Programme 2023', 'original': True, 'cfTrans': 'o'}]</td>\n",
       "            <td>[{'cfLangCode': 'en', 'naziv': 'Book of abstracts and programme for the Solid-State Science & Research conference held 28-30 June 2023', 'original': True, 'cfTrans': 'o'}]</td>\n",
       "            <td>[{'cfLangCode': 'en', 'naziv': 'solid ; state ; science ; book ; abstracts ; 2023', 'original': True, 'cfTrans': 'o'}]</td>\n",
       "            <td>[{'urlId': 235635, 'urlVrstaId': 990, 'urlVrstaNaziv': 'URL rada koji je dostupan u otvorenom pristupu', 'url': 'https://drive.google.com/file/d/1Cp1XNoxnVxPTpc-7EX0pLmUyipgW-Z34/view'}]</td>\n",
       "            <td>{'_embedded': {'osobe': [{'crorisId': 34243, 'titulaIspredImena': 'dr. sc.', 'ime': 'Bahar', 'prezime': 'Karadeniz', 'funkcija': {'id': 906, 'naziv': 'urednik/ci'}, '_links': {'self': {'href': 'https://croris.hr/crosbi-api/osoba/34243'}}}, {'crorisId': 2422, 'titulaIspredImena': 'dr. sc.', 'ime': 'Nikola', 'prezime': 'Biliškov', 'funkcija': {'id': 906, 'naziv': 'urednik/ci'}, '_links': {'self': {'href': 'https://croris.hr/crosbi-api/osoba/2422'}}}]}}</td>\n",
       "            <td>{'_embedded': {'ustanove': [{'crorisId': 66, 'naziv': 'Institut Ruđer Bošković', 'mbu': 98, 'funkcija': {'id': 955, 'naziv': 'ustanova urednika'}, '_links': {'self': {'href': 'https://croris.hr/crosbi-api/ustanova/66'}}}]}}</td>\n",
       "            <td>{'osobe': {'href': 'https://croris.hr/crosbi-api/osoba/publikacija/795775'}, 'ustanove': {'href': 'https://croris.hr/crosbi-api/ustanova/publikacija/795775'}, 'self': {'href': 'https://croris.hr/crosbi-api/publikacija/795775'}}</td>\n",
       "        </tr>\n",
       "        <tr>\n",
       "            <td>795775</td>\n",
       "            <td></td>\n",
       "            <td></td>\n",
       "            <td>Solid-State Science & Research Book of Abstracts and Programme 2023</td>\n",
       "            <td>urednička knjiga</td>\n",
       "            <td>zbornik sažetaka s konferencije</td>\n",
       "            <td>2023</td>\n",
       "            <td>Advantages of crosslinking self-assembled molecular layers on metal surfaces</td>\n",
       "            <td></td>\n",
       "            <td></td>\n",
       "            <td></td>\n",
       "            <td></td>\n",
       "            <td></td>\n",
       "            <td></td>\n",
       "            <td></td>\n",
       "            <td>[{'vrstaCitataId': 1040, 'vrstaCitataNaziv': 'CROSBI', 'citat': 'Solid-State Science & Research Book of Abstracts and Programme 2023 / Biliškov, Nikola; Karadeniz, Bahar; Juraj Pantalon, Natalija (ur.) \\nZagreb: Institut Ruđer Bošković, 2023'}]</td>\n",
       "            <td>[{'cfLangCode': 'en', 'naziv': 'Solid-State Science & Research Book of Abstracts and Programme 2023', 'original': True, 'cfTrans': 'o'}]</td>\n",
       "            <td>[{'cfLangCode': 'en', 'naziv': 'Book of abstracts and programme for the Solid-State Science & Research conference held 28-30 June 2023', 'original': True, 'cfTrans': 'o'}]</td>\n",
       "            <td>[{'cfLangCode': 'en', 'naziv': 'solid ; state ; science ; book ; abstracts ; 2023', 'original': True, 'cfTrans': 'o'}]</td>\n",
       "            <td>[{'urlId': 235635, 'urlVrstaId': 990, 'urlVrstaNaziv': 'URL rada koji je dostupan u otvorenom pristupu', 'url': 'https://drive.google.com/file/d/1Cp1XNoxnVxPTpc-7EX0pLmUyipgW-Z34/view'}]</td>\n",
       "            <td>{'_embedded': {'osobe': [{'crorisId': 34243, 'titulaIspredImena': 'dr. sc.', 'ime': 'Bahar', 'prezime': 'Karadeniz', 'funkcija': {'id': 906, 'naziv': 'urednik/ci'}, '_links': {'self': {'href': 'https://croris.hr/crosbi-api/osoba/34243'}}}, {'crorisId': 2422, 'titulaIspredImena': 'dr. sc.', 'ime': 'Nikola', 'prezime': 'Biliškov', 'funkcija': {'id': 906, 'naziv': 'urednik/ci'}, '_links': {'self': {'href': 'https://croris.hr/crosbi-api/osoba/2422'}}}]}}</td>\n",
       "            <td>{'_embedded': {'ustanove': [{'crorisId': 66, 'naziv': 'Institut Ruđer Bošković', 'mbu': 98, 'funkcija': {'id': 955, 'naziv': 'ustanova urednika'}, '_links': {'self': {'href': 'https://croris.hr/crosbi-api/ustanova/66'}}}]}}</td>\n",
       "            <td>{'osobe': {'href': 'https://croris.hr/crosbi-api/osoba/publikacija/795775'}, 'ustanove': {'href': 'https://croris.hr/crosbi-api/ustanova/publikacija/795775'}, 'self': {'href': 'https://croris.hr/crosbi-api/publikacija/795775'}}</td>\n",
       "        </tr>\n",
       "    </tbody>\n",
       "</table>\n",
       "<span style=\"font-style:italic;text-align:center;\">Truncated to <a href=\"https://jupysql.ploomber.io/en/latest/api/configuration.html#displaylimit\">displaylimit</a> of 10.</span>"
      ],
      "text/plain": [
       "+----------+----------+--------+---------------------------------------------------------------------+------------------+---------------------------------+--------+-------------------------------------------------------------------------------------------------------------+---------+---------+---------+----------+-----+------+---------------+------------------------------------------------------------------------------------------------------------------------------------------------------------------------------------------------------------------------------------------------------+------------------------------------------------------------------------------------------------------------------------------------------+-----------------------------------------------------------------------------------------------------------------------------------------------------------------------------+------------------------------------------------------------------------------------------------------------------------+--------------------------------------------------------------------------------------------------------------------------------------------------------------------------------------------+------------------------------------------------------------------------------------------------------------------------------------------------------------------------------------------------------------------------------------------------------------------------------------------------------------------------------------------------------------------------------------------------------------------------------------------------------------------------+---------------------------------------------------------------------------------------------------------------------------------------------------------------------------------------------------------------------------------+-------------------------------------------------------------------------------------------------------------------------------------------------------------------------------------------------------------------------------------+\n",
       "| crosbiId | bibIrbId | autori |                                naslov                               |      vrsta       |               tip               | godina |                                             nadredenaPublikacija                                            | casopis | volumen | svescic | stranice | doi | issn | indeksiranost |                                                                                                                        citati                                                                                                                        |                                                                 naslovi                                                                  |                                                                                    sazeci                                                                                   |                                                     kljucneRijeci                                                      |                                                                                         poveznice                                                                                          |                                                                                                                                                                                                                             osobeResources                                                                                                                                                                                                                             |                                                                                                        ustanoveResources                                                                                                        |                                                                                                                _links                                                                                                               |\n",
       "+----------+----------+--------+---------------------------------------------------------------------+------------------+---------------------------------+--------+-------------------------------------------------------------------------------------------------------------+---------+---------+---------+----------+-----+------+---------------+------------------------------------------------------------------------------------------------------------------------------------------------------------------------------------------------------------------------------------------------------+------------------------------------------------------------------------------------------------------------------------------------------+-----------------------------------------------------------------------------------------------------------------------------------------------------------------------------+------------------------------------------------------------------------------------------------------------------------+--------------------------------------------------------------------------------------------------------------------------------------------------------------------------------------------+------------------------------------------------------------------------------------------------------------------------------------------------------------------------------------------------------------------------------------------------------------------------------------------------------------------------------------------------------------------------------------------------------------------------------------------------------------------------+---------------------------------------------------------------------------------------------------------------------------------------------------------------------------------------------------------------------------------+-------------------------------------------------------------------------------------------------------------------------------------------------------------------------------------------------------------------------------------+\n",
       "|  795775  |          |        | Solid-State Science & Research Book of Abstracts and Programme 2023 | urednička knjiga | zbornik sažetaka s konferencije |  2023  |                    Mechanochemical synthesis of some transition metal polycyanometallates                   |         |         |         |          |     |      |               | [{'vrstaCitataId': 1040, 'vrstaCitataNaziv': 'CROSBI', 'citat': 'Solid-State Science & Research Book of Abstracts and Programme 2023 / Biliškov, Nikola; Karadeniz, Bahar; Juraj Pantalon, Natalija (ur.) \\nZagreb: Institut Ruđer Bošković, 2023'}] | [{'cfLangCode': 'en', 'naziv': 'Solid-State Science & Research Book of Abstracts and Programme 2023', 'original': True, 'cfTrans': 'o'}] | [{'cfLangCode': 'en', 'naziv': 'Book of abstracts and programme for the Solid-State Science & Research conference held 28-30 June 2023', 'original': True, 'cfTrans': 'o'}] | [{'cfLangCode': 'en', 'naziv': 'solid ; state ; science ; book ; abstracts ; 2023', 'original': True, 'cfTrans': 'o'}] | [{'urlId': 235635, 'urlVrstaId': 990, 'urlVrstaNaziv': 'URL rada koji je dostupan u otvorenom pristupu', 'url': 'https://drive.google.com/file/d/1Cp1XNoxnVxPTpc-7EX0pLmUyipgW-Z34/view'}] | {'_embedded': {'osobe': [{'crorisId': 34243, 'titulaIspredImena': 'dr. sc.', 'ime': 'Bahar', 'prezime': 'Karadeniz', 'funkcija': {'id': 906, 'naziv': 'urednik/ci'}, '_links': {'self': {'href': 'https://croris.hr/crosbi-api/osoba/34243'}}}, {'crorisId': 2422, 'titulaIspredImena': 'dr. sc.', 'ime': 'Nikola', 'prezime': 'Biliškov', 'funkcija': {'id': 906, 'naziv': 'urednik/ci'}, '_links': {'self': {'href': 'https://croris.hr/crosbi-api/osoba/2422'}}}]}} | {'_embedded': {'ustanove': [{'crorisId': 66, 'naziv': 'Institut Ruđer Bošković', 'mbu': 98, 'funkcija': {'id': 955, 'naziv': 'ustanova urednika'}, '_links': {'self': {'href': 'https://croris.hr/crosbi-api/ustanova/66'}}}]}} | {'osobe': {'href': 'https://croris.hr/crosbi-api/osoba/publikacija/795775'}, 'ustanove': {'href': 'https://croris.hr/crosbi-api/ustanova/publikacija/795775'}, 'self': {'href': 'https://croris.hr/crosbi-api/publikacija/795775'}} |\n",
       "|  795775  |          |        | Solid-State Science & Research Book of Abstracts and Programme 2023 | urednička knjiga | zbornik sažetaka s konferencije |  2023  |                 Advantages of crosslinking self-assembled molecular layers on metal surfaces                |         |         |         |          |     |      |               | [{'vrstaCitataId': 1040, 'vrstaCitataNaziv': 'CROSBI', 'citat': 'Solid-State Science & Research Book of Abstracts and Programme 2023 / Biliškov, Nikola; Karadeniz, Bahar; Juraj Pantalon, Natalija (ur.) \\nZagreb: Institut Ruđer Bošković, 2023'}] | [{'cfLangCode': 'en', 'naziv': 'Solid-State Science & Research Book of Abstracts and Programme 2023', 'original': True, 'cfTrans': 'o'}] | [{'cfLangCode': 'en', 'naziv': 'Book of abstracts and programme for the Solid-State Science & Research conference held 28-30 June 2023', 'original': True, 'cfTrans': 'o'}] | [{'cfLangCode': 'en', 'naziv': 'solid ; state ; science ; book ; abstracts ; 2023', 'original': True, 'cfTrans': 'o'}] | [{'urlId': 235635, 'urlVrstaId': 990, 'urlVrstaNaziv': 'URL rada koji je dostupan u otvorenom pristupu', 'url': 'https://drive.google.com/file/d/1Cp1XNoxnVxPTpc-7EX0pLmUyipgW-Z34/view'}] | {'_embedded': {'osobe': [{'crorisId': 34243, 'titulaIspredImena': 'dr. sc.', 'ime': 'Bahar', 'prezime': 'Karadeniz', 'funkcija': {'id': 906, 'naziv': 'urednik/ci'}, '_links': {'self': {'href': 'https://croris.hr/crosbi-api/osoba/34243'}}}, {'crorisId': 2422, 'titulaIspredImena': 'dr. sc.', 'ime': 'Nikola', 'prezime': 'Biliškov', 'funkcija': {'id': 906, 'naziv': 'urednik/ci'}, '_links': {'self': {'href': 'https://croris.hr/crosbi-api/osoba/2422'}}}]}} | {'_embedded': {'ustanove': [{'crorisId': 66, 'naziv': 'Institut Ruđer Bošković', 'mbu': 98, 'funkcija': {'id': 955, 'naziv': 'ustanova urednika'}, '_links': {'self': {'href': 'https://croris.hr/crosbi-api/ustanova/66'}}}]}} | {'osobe': {'href': 'https://croris.hr/crosbi-api/osoba/publikacija/795775'}, 'ustanove': {'href': 'https://croris.hr/crosbi-api/ustanova/publikacija/795775'}, 'self': {'href': 'https://croris.hr/crosbi-api/publikacija/795775'}} |\n",
       "|  795775  |          |        | Solid-State Science & Research Book of Abstracts and Programme 2023 | urednička knjiga | zbornik sažetaka s konferencije |  2023  |                        Structural and magnetic study of MOF-74 isophthalic homologues                       |         |         |         |          |     |      |               | [{'vrstaCitataId': 1040, 'vrstaCitataNaziv': 'CROSBI', 'citat': 'Solid-State Science & Research Book of Abstracts and Programme 2023 / Biliškov, Nikola; Karadeniz, Bahar; Juraj Pantalon, Natalija (ur.) \\nZagreb: Institut Ruđer Bošković, 2023'}] | [{'cfLangCode': 'en', 'naziv': 'Solid-State Science & Research Book of Abstracts and Programme 2023', 'original': True, 'cfTrans': 'o'}] | [{'cfLangCode': 'en', 'naziv': 'Book of abstracts and programme for the Solid-State Science & Research conference held 28-30 June 2023', 'original': True, 'cfTrans': 'o'}] | [{'cfLangCode': 'en', 'naziv': 'solid ; state ; science ; book ; abstracts ; 2023', 'original': True, 'cfTrans': 'o'}] | [{'urlId': 235635, 'urlVrstaId': 990, 'urlVrstaNaziv': 'URL rada koji je dostupan u otvorenom pristupu', 'url': 'https://drive.google.com/file/d/1Cp1XNoxnVxPTpc-7EX0pLmUyipgW-Z34/view'}] | {'_embedded': {'osobe': [{'crorisId': 34243, 'titulaIspredImena': 'dr. sc.', 'ime': 'Bahar', 'prezime': 'Karadeniz', 'funkcija': {'id': 906, 'naziv': 'urednik/ci'}, '_links': {'self': {'href': 'https://croris.hr/crosbi-api/osoba/34243'}}}, {'crorisId': 2422, 'titulaIspredImena': 'dr. sc.', 'ime': 'Nikola', 'prezime': 'Biliškov', 'funkcija': {'id': 906, 'naziv': 'urednik/ci'}, '_links': {'self': {'href': 'https://croris.hr/crosbi-api/osoba/2422'}}}]}} | {'_embedded': {'ustanove': [{'crorisId': 66, 'naziv': 'Institut Ruđer Bošković', 'mbu': 98, 'funkcija': {'id': 955, 'naziv': 'ustanova urednika'}, '_links': {'self': {'href': 'https://croris.hr/crosbi-api/ustanova/66'}}}]}} | {'osobe': {'href': 'https://croris.hr/crosbi-api/osoba/publikacija/795775'}, 'ustanove': {'href': 'https://croris.hr/crosbi-api/ustanova/publikacija/795775'}, 'self': {'href': 'https://croris.hr/crosbi-api/publikacija/795775'}} |\n",
       "|  795775  |          |        | Solid-State Science & Research Book of Abstracts and Programme 2023 | urednička knjiga | zbornik sažetaka s konferencije |  2023  |                          Green and scalable synthesis of alkali metal dhta polymers                         |         |         |         |          |     |      |               | [{'vrstaCitataId': 1040, 'vrstaCitataNaziv': 'CROSBI', 'citat': 'Solid-State Science & Research Book of Abstracts and Programme 2023 / Biliškov, Nikola; Karadeniz, Bahar; Juraj Pantalon, Natalija (ur.) \\nZagreb: Institut Ruđer Bošković, 2023'}] | [{'cfLangCode': 'en', 'naziv': 'Solid-State Science & Research Book of Abstracts and Programme 2023', 'original': True, 'cfTrans': 'o'}] | [{'cfLangCode': 'en', 'naziv': 'Book of abstracts and programme for the Solid-State Science & Research conference held 28-30 June 2023', 'original': True, 'cfTrans': 'o'}] | [{'cfLangCode': 'en', 'naziv': 'solid ; state ; science ; book ; abstracts ; 2023', 'original': True, 'cfTrans': 'o'}] | [{'urlId': 235635, 'urlVrstaId': 990, 'urlVrstaNaziv': 'URL rada koji je dostupan u otvorenom pristupu', 'url': 'https://drive.google.com/file/d/1Cp1XNoxnVxPTpc-7EX0pLmUyipgW-Z34/view'}] | {'_embedded': {'osobe': [{'crorisId': 34243, 'titulaIspredImena': 'dr. sc.', 'ime': 'Bahar', 'prezime': 'Karadeniz', 'funkcija': {'id': 906, 'naziv': 'urednik/ci'}, '_links': {'self': {'href': 'https://croris.hr/crosbi-api/osoba/34243'}}}, {'crorisId': 2422, 'titulaIspredImena': 'dr. sc.', 'ime': 'Nikola', 'prezime': 'Biliškov', 'funkcija': {'id': 906, 'naziv': 'urednik/ci'}, '_links': {'self': {'href': 'https://croris.hr/crosbi-api/osoba/2422'}}}]}} | {'_embedded': {'ustanove': [{'crorisId': 66, 'naziv': 'Institut Ruđer Bošković', 'mbu': 98, 'funkcija': {'id': 955, 'naziv': 'ustanova urednika'}, '_links': {'self': {'href': 'https://croris.hr/crosbi-api/ustanova/66'}}}]}} | {'osobe': {'href': 'https://croris.hr/crosbi-api/osoba/publikacija/795775'}, 'ustanove': {'href': 'https://croris.hr/crosbi-api/ustanova/publikacija/795775'}, 'self': {'href': 'https://croris.hr/crosbi-api/publikacija/795775'}} |\n",
       "|  795775  |          |        | Solid-State Science & Research Book of Abstracts and Programme 2023 | urednička knjiga | zbornik sažetaka s konferencije |  2023  |                     Fabrication of solar-active materials for environmental technologies                    |         |         |         |          |     |      |               | [{'vrstaCitataId': 1040, 'vrstaCitataNaziv': 'CROSBI', 'citat': 'Solid-State Science & Research Book of Abstracts and Programme 2023 / Biliškov, Nikola; Karadeniz, Bahar; Juraj Pantalon, Natalija (ur.) \\nZagreb: Institut Ruđer Bošković, 2023'}] | [{'cfLangCode': 'en', 'naziv': 'Solid-State Science & Research Book of Abstracts and Programme 2023', 'original': True, 'cfTrans': 'o'}] | [{'cfLangCode': 'en', 'naziv': 'Book of abstracts and programme for the Solid-State Science & Research conference held 28-30 June 2023', 'original': True, 'cfTrans': 'o'}] | [{'cfLangCode': 'en', 'naziv': 'solid ; state ; science ; book ; abstracts ; 2023', 'original': True, 'cfTrans': 'o'}] | [{'urlId': 235635, 'urlVrstaId': 990, 'urlVrstaNaziv': 'URL rada koji je dostupan u otvorenom pristupu', 'url': 'https://drive.google.com/file/d/1Cp1XNoxnVxPTpc-7EX0pLmUyipgW-Z34/view'}] | {'_embedded': {'osobe': [{'crorisId': 34243, 'titulaIspredImena': 'dr. sc.', 'ime': 'Bahar', 'prezime': 'Karadeniz', 'funkcija': {'id': 906, 'naziv': 'urednik/ci'}, '_links': {'self': {'href': 'https://croris.hr/crosbi-api/osoba/34243'}}}, {'crorisId': 2422, 'titulaIspredImena': 'dr. sc.', 'ime': 'Nikola', 'prezime': 'Biliškov', 'funkcija': {'id': 906, 'naziv': 'urednik/ci'}, '_links': {'self': {'href': 'https://croris.hr/crosbi-api/osoba/2422'}}}]}} | {'_embedded': {'ustanove': [{'crorisId': 66, 'naziv': 'Institut Ruđer Bošković', 'mbu': 98, 'funkcija': {'id': 955, 'naziv': 'ustanova urednika'}, '_links': {'self': {'href': 'https://croris.hr/crosbi-api/ustanova/66'}}}]}} | {'osobe': {'href': 'https://croris.hr/crosbi-api/osoba/publikacija/795775'}, 'ustanove': {'href': 'https://croris.hr/crosbi-api/ustanova/publikacija/795775'}, 'self': {'href': 'https://croris.hr/crosbi-api/publikacija/795775'}} |\n",
       "|  795775  |          |        | Solid-State Science & Research Book of Abstracts and Programme 2023 | urednička knjiga | zbornik sažetaka s konferencije |  2023  |         Gas adsorption by FAU zeolite modified with mechanochemicaly synthesized polycyanometallates        |         |         |         |          |     |      |               | [{'vrstaCitataId': 1040, 'vrstaCitataNaziv': 'CROSBI', 'citat': 'Solid-State Science & Research Book of Abstracts and Programme 2023 / Biliškov, Nikola; Karadeniz, Bahar; Juraj Pantalon, Natalija (ur.) \\nZagreb: Institut Ruđer Bošković, 2023'}] | [{'cfLangCode': 'en', 'naziv': 'Solid-State Science & Research Book of Abstracts and Programme 2023', 'original': True, 'cfTrans': 'o'}] | [{'cfLangCode': 'en', 'naziv': 'Book of abstracts and programme for the Solid-State Science & Research conference held 28-30 June 2023', 'original': True, 'cfTrans': 'o'}] | [{'cfLangCode': 'en', 'naziv': 'solid ; state ; science ; book ; abstracts ; 2023', 'original': True, 'cfTrans': 'o'}] | [{'urlId': 235635, 'urlVrstaId': 990, 'urlVrstaNaziv': 'URL rada koji je dostupan u otvorenom pristupu', 'url': 'https://drive.google.com/file/d/1Cp1XNoxnVxPTpc-7EX0pLmUyipgW-Z34/view'}] | {'_embedded': {'osobe': [{'crorisId': 34243, 'titulaIspredImena': 'dr. sc.', 'ime': 'Bahar', 'prezime': 'Karadeniz', 'funkcija': {'id': 906, 'naziv': 'urednik/ci'}, '_links': {'self': {'href': 'https://croris.hr/crosbi-api/osoba/34243'}}}, {'crorisId': 2422, 'titulaIspredImena': 'dr. sc.', 'ime': 'Nikola', 'prezime': 'Biliškov', 'funkcija': {'id': 906, 'naziv': 'urednik/ci'}, '_links': {'self': {'href': 'https://croris.hr/crosbi-api/osoba/2422'}}}]}} | {'_embedded': {'ustanove': [{'crorisId': 66, 'naziv': 'Institut Ruđer Bošković', 'mbu': 98, 'funkcija': {'id': 955, 'naziv': 'ustanova urednika'}, '_links': {'self': {'href': 'https://croris.hr/crosbi-api/ustanova/66'}}}]}} | {'osobe': {'href': 'https://croris.hr/crosbi-api/osoba/publikacija/795775'}, 'ustanove': {'href': 'https://croris.hr/crosbi-api/ustanova/publikacija/795775'}, 'self': {'href': 'https://croris.hr/crosbi-api/publikacija/795775'}} |\n",
       "|  795775  |          |        | Solid-State Science & Research Book of Abstracts and Programme 2023 | urednička knjiga | zbornik sažetaka s konferencije |  2023  | Mechanochemical modification of FAU zeolite with transition metal iodides and its gas adsorption properties |         |         |         |          |     |      |               | [{'vrstaCitataId': 1040, 'vrstaCitataNaziv': 'CROSBI', 'citat': 'Solid-State Science & Research Book of Abstracts and Programme 2023 / Biliškov, Nikola; Karadeniz, Bahar; Juraj Pantalon, Natalija (ur.) \\nZagreb: Institut Ruđer Bošković, 2023'}] | [{'cfLangCode': 'en', 'naziv': 'Solid-State Science & Research Book of Abstracts and Programme 2023', 'original': True, 'cfTrans': 'o'}] | [{'cfLangCode': 'en', 'naziv': 'Book of abstracts and programme for the Solid-State Science & Research conference held 28-30 June 2023', 'original': True, 'cfTrans': 'o'}] | [{'cfLangCode': 'en', 'naziv': 'solid ; state ; science ; book ; abstracts ; 2023', 'original': True, 'cfTrans': 'o'}] | [{'urlId': 235635, 'urlVrstaId': 990, 'urlVrstaNaziv': 'URL rada koji je dostupan u otvorenom pristupu', 'url': 'https://drive.google.com/file/d/1Cp1XNoxnVxPTpc-7EX0pLmUyipgW-Z34/view'}] | {'_embedded': {'osobe': [{'crorisId': 34243, 'titulaIspredImena': 'dr. sc.', 'ime': 'Bahar', 'prezime': 'Karadeniz', 'funkcija': {'id': 906, 'naziv': 'urednik/ci'}, '_links': {'self': {'href': 'https://croris.hr/crosbi-api/osoba/34243'}}}, {'crorisId': 2422, 'titulaIspredImena': 'dr. sc.', 'ime': 'Nikola', 'prezime': 'Biliškov', 'funkcija': {'id': 906, 'naziv': 'urednik/ci'}, '_links': {'self': {'href': 'https://croris.hr/crosbi-api/osoba/2422'}}}]}} | {'_embedded': {'ustanove': [{'crorisId': 66, 'naziv': 'Institut Ruđer Bošković', 'mbu': 98, 'funkcija': {'id': 955, 'naziv': 'ustanova urednika'}, '_links': {'self': {'href': 'https://croris.hr/crosbi-api/ustanova/66'}}}]}} | {'osobe': {'href': 'https://croris.hr/crosbi-api/osoba/publikacija/795775'}, 'ustanove': {'href': 'https://croris.hr/crosbi-api/ustanova/publikacija/795775'}, 'self': {'href': 'https://croris.hr/crosbi-api/publikacija/795775'}} |\n",
       "|  795775  |          |        | Solid-State Science & Research Book of Abstracts and Programme 2023 | urednička knjiga | zbornik sažetaka s konferencije |  2023  |  The Mixed Glass Former Effect: A Pathway to Enhanced Conductivity in Na2O-ZnO-P2O5-Nb2O5 glass-(ceramics)  |         |         |         |          |     |      |               | [{'vrstaCitataId': 1040, 'vrstaCitataNaziv': 'CROSBI', 'citat': 'Solid-State Science & Research Book of Abstracts and Programme 2023 / Biliškov, Nikola; Karadeniz, Bahar; Juraj Pantalon, Natalija (ur.) \\nZagreb: Institut Ruđer Bošković, 2023'}] | [{'cfLangCode': 'en', 'naziv': 'Solid-State Science & Research Book of Abstracts and Programme 2023', 'original': True, 'cfTrans': 'o'}] | [{'cfLangCode': 'en', 'naziv': 'Book of abstracts and programme for the Solid-State Science & Research conference held 28-30 June 2023', 'original': True, 'cfTrans': 'o'}] | [{'cfLangCode': 'en', 'naziv': 'solid ; state ; science ; book ; abstracts ; 2023', 'original': True, 'cfTrans': 'o'}] | [{'urlId': 235635, 'urlVrstaId': 990, 'urlVrstaNaziv': 'URL rada koji je dostupan u otvorenom pristupu', 'url': 'https://drive.google.com/file/d/1Cp1XNoxnVxPTpc-7EX0pLmUyipgW-Z34/view'}] | {'_embedded': {'osobe': [{'crorisId': 34243, 'titulaIspredImena': 'dr. sc.', 'ime': 'Bahar', 'prezime': 'Karadeniz', 'funkcija': {'id': 906, 'naziv': 'urednik/ci'}, '_links': {'self': {'href': 'https://croris.hr/crosbi-api/osoba/34243'}}}, {'crorisId': 2422, 'titulaIspredImena': 'dr. sc.', 'ime': 'Nikola', 'prezime': 'Biliškov', 'funkcija': {'id': 906, 'naziv': 'urednik/ci'}, '_links': {'self': {'href': 'https://croris.hr/crosbi-api/osoba/2422'}}}]}} | {'_embedded': {'ustanove': [{'crorisId': 66, 'naziv': 'Institut Ruđer Bošković', 'mbu': 98, 'funkcija': {'id': 955, 'naziv': 'ustanova urednika'}, '_links': {'self': {'href': 'https://croris.hr/crosbi-api/ustanova/66'}}}]}} | {'osobe': {'href': 'https://croris.hr/crosbi-api/osoba/publikacija/795775'}, 'ustanove': {'href': 'https://croris.hr/crosbi-api/ustanova/publikacija/795775'}, 'self': {'href': 'https://croris.hr/crosbi-api/publikacija/795775'}} |\n",
       "|  795775  |          |        | Solid-State Science & Research Book of Abstracts and Programme 2023 | urednička knjiga | zbornik sažetaka s konferencije |  2023  |             Monometallic and bimetallic MOF-74 materials based on structural isomers as linkers             |         |         |         |          |     |      |               | [{'vrstaCitataId': 1040, 'vrstaCitataNaziv': 'CROSBI', 'citat': 'Solid-State Science & Research Book of Abstracts and Programme 2023 / Biliškov, Nikola; Karadeniz, Bahar; Juraj Pantalon, Natalija (ur.) \\nZagreb: Institut Ruđer Bošković, 2023'}] | [{'cfLangCode': 'en', 'naziv': 'Solid-State Science & Research Book of Abstracts and Programme 2023', 'original': True, 'cfTrans': 'o'}] | [{'cfLangCode': 'en', 'naziv': 'Book of abstracts and programme for the Solid-State Science & Research conference held 28-30 June 2023', 'original': True, 'cfTrans': 'o'}] | [{'cfLangCode': 'en', 'naziv': 'solid ; state ; science ; book ; abstracts ; 2023', 'original': True, 'cfTrans': 'o'}] | [{'urlId': 235635, 'urlVrstaId': 990, 'urlVrstaNaziv': 'URL rada koji je dostupan u otvorenom pristupu', 'url': 'https://drive.google.com/file/d/1Cp1XNoxnVxPTpc-7EX0pLmUyipgW-Z34/view'}] | {'_embedded': {'osobe': [{'crorisId': 34243, 'titulaIspredImena': 'dr. sc.', 'ime': 'Bahar', 'prezime': 'Karadeniz', 'funkcija': {'id': 906, 'naziv': 'urednik/ci'}, '_links': {'self': {'href': 'https://croris.hr/crosbi-api/osoba/34243'}}}, {'crorisId': 2422, 'titulaIspredImena': 'dr. sc.', 'ime': 'Nikola', 'prezime': 'Biliškov', 'funkcija': {'id': 906, 'naziv': 'urednik/ci'}, '_links': {'self': {'href': 'https://croris.hr/crosbi-api/osoba/2422'}}}]}} | {'_embedded': {'ustanove': [{'crorisId': 66, 'naziv': 'Institut Ruđer Bošković', 'mbu': 98, 'funkcija': {'id': 955, 'naziv': 'ustanova urednika'}, '_links': {'self': {'href': 'https://croris.hr/crosbi-api/ustanova/66'}}}]}} | {'osobe': {'href': 'https://croris.hr/crosbi-api/osoba/publikacija/795775'}, 'ustanove': {'href': 'https://croris.hr/crosbi-api/ustanova/publikacija/795775'}, 'self': {'href': 'https://croris.hr/crosbi-api/publikacija/795775'}} |\n",
       "|  795775  |          |        | Solid-State Science & Research Book of Abstracts and Programme 2023 | urednička knjiga | zbornik sažetaka s konferencije |  2023  |                 Advantages of crosslinking self-assembled molecular layers on metal surfaces                |         |         |         |          |     |      |               | [{'vrstaCitataId': 1040, 'vrstaCitataNaziv': 'CROSBI', 'citat': 'Solid-State Science & Research Book of Abstracts and Programme 2023 / Biliškov, Nikola; Karadeniz, Bahar; Juraj Pantalon, Natalija (ur.) \\nZagreb: Institut Ruđer Bošković, 2023'}] | [{'cfLangCode': 'en', 'naziv': 'Solid-State Science & Research Book of Abstracts and Programme 2023', 'original': True, 'cfTrans': 'o'}] | [{'cfLangCode': 'en', 'naziv': 'Book of abstracts and programme for the Solid-State Science & Research conference held 28-30 June 2023', 'original': True, 'cfTrans': 'o'}] | [{'cfLangCode': 'en', 'naziv': 'solid ; state ; science ; book ; abstracts ; 2023', 'original': True, 'cfTrans': 'o'}] | [{'urlId': 235635, 'urlVrstaId': 990, 'urlVrstaNaziv': 'URL rada koji je dostupan u otvorenom pristupu', 'url': 'https://drive.google.com/file/d/1Cp1XNoxnVxPTpc-7EX0pLmUyipgW-Z34/view'}] | {'_embedded': {'osobe': [{'crorisId': 34243, 'titulaIspredImena': 'dr. sc.', 'ime': 'Bahar', 'prezime': 'Karadeniz', 'funkcija': {'id': 906, 'naziv': 'urednik/ci'}, '_links': {'self': {'href': 'https://croris.hr/crosbi-api/osoba/34243'}}}, {'crorisId': 2422, 'titulaIspredImena': 'dr. sc.', 'ime': 'Nikola', 'prezime': 'Biliškov', 'funkcija': {'id': 906, 'naziv': 'urednik/ci'}, '_links': {'self': {'href': 'https://croris.hr/crosbi-api/osoba/2422'}}}]}} | {'_embedded': {'ustanove': [{'crorisId': 66, 'naziv': 'Institut Ruđer Bošković', 'mbu': 98, 'funkcija': {'id': 955, 'naziv': 'ustanova urednika'}, '_links': {'self': {'href': 'https://croris.hr/crosbi-api/ustanova/66'}}}]}} | {'osobe': {'href': 'https://croris.hr/crosbi-api/osoba/publikacija/795775'}, 'ustanove': {'href': 'https://croris.hr/crosbi-api/ustanova/publikacija/795775'}, 'self': {'href': 'https://croris.hr/crosbi-api/publikacija/795775'}} |\n",
       "+----------+----------+--------+---------------------------------------------------------------------+------------------+---------------------------------+--------+-------------------------------------------------------------------------------------------------------------+---------+---------+---------+----------+-----+------+---------------+------------------------------------------------------------------------------------------------------------------------------------------------------------------------------------------------------------------------------------------------------+------------------------------------------------------------------------------------------------------------------------------------------+-----------------------------------------------------------------------------------------------------------------------------------------------------------------------------+------------------------------------------------------------------------------------------------------------------------+--------------------------------------------------------------------------------------------------------------------------------------------------------------------------------------------+------------------------------------------------------------------------------------------------------------------------------------------------------------------------------------------------------------------------------------------------------------------------------------------------------------------------------------------------------------------------------------------------------------------------------------------------------------------------+---------------------------------------------------------------------------------------------------------------------------------------------------------------------------------------------------------------------------------+-------------------------------------------------------------------------------------------------------------------------------------------------------------------------------------------------------------------------------------+\n",
       "Truncated to displaylimit of 10."
      ]
     },
     "execution_count": 20,
     "metadata": {},
     "output_type": "execute_result"
    }
   ],
   "source": [
    "%%sql\n",
    "SELECT *\n",
    "FROM publications\n",
    "WHERE crosbiId = 795775;"
   ]
  },
  {
   "cell_type": "code",
   "execution_count": 22,
   "metadata": {},
   "outputs": [
    {
     "data": {
      "text/plain": [
       "<duckdb.duckdb.DuckDBPyConnection at 0x4c3be37b0>"
      ]
     },
     "execution_count": 22,
     "metadata": {},
     "output_type": "execute_result"
    }
   ],
   "source": [
    "con.execute(\"SHOW publications\")"
   ]
  },
  {
   "cell_type": "code",
   "execution_count": 58,
   "metadata": {},
   "outputs": [
    {
     "name": "stdout",
     "output_type": "stream",
     "text": [
      "Table structure:\n",
      "Column: crosbiId, Type: VARCHAR\n",
      "Column: bibIrbId, Type: VARCHAR\n",
      "Column: autori, Type: VARCHAR\n",
      "Column: naslov, Type: VARCHAR\n",
      "Column: vrsta, Type: VARCHAR\n",
      "Column: tip, Type: VARCHAR\n",
      "Column: godina, Type: VARCHAR\n",
      "Column: nadredenaPublikacija, Type: VARCHAR\n",
      "Column: casopis, Type: VARCHAR\n",
      "Column: volumen, Type: VARCHAR\n",
      "Column: svescic, Type: VARCHAR\n",
      "Column: stranice, Type: VARCHAR\n",
      "Column: doi, Type: VARCHAR\n",
      "Column: issn, Type: VARCHAR\n",
      "Column: indeksiranost, Type: VARCHAR\n",
      "Column: citati, Type: VARCHAR\n",
      "Column: naslovi, Type: VARCHAR\n",
      "Column: sazeci, Type: VARCHAR\n",
      "Column: kljucneRijeci, Type: VARCHAR\n",
      "Column: poveznice, Type: VARCHAR\n",
      "Column: osobeResources, Type: VARCHAR\n",
      "Column: ustanoveResources, Type: VARCHAR\n",
      "Column: _links, Type: VARCHAR\n"
     ]
    }
   ],
   "source": [
    "# Print the table structure\n",
    "table_info = con.execute(\"PRAGMA table_info('publications')\").fetchall()\n",
    "print(\"Table structure:\")\n",
    "for column in table_info:\n",
    "    print(f\"Column: {column[1]}, Type: {column[2]}\")"
   ]
  },
  {
   "cell_type": "code",
   "execution_count": 12,
   "metadata": {},
   "outputs": [
    {
     "data": {
      "text/html": [
       "<span style=\"None\">Connecting to &#x27;duckdb:///publications.db&#x27;</span>"
      ],
      "text/plain": [
       "Connecting to 'duckdb:///publications.db'"
      ]
     },
     "metadata": {},
     "output_type": "display_data"
    }
   ],
   "source": [
    "%sql duckdb:///publications.db"
   ]
  },
  {
   "cell_type": "code",
   "execution_count": 23,
   "metadata": {},
   "outputs": [
    {
     "data": {
      "text/html": [
       "<span style=\"None\">Running query in &#x27;duckdb:///publications.db&#x27;</span>"
      ],
      "text/plain": [
       "Running query in 'duckdb:///publications.db'"
      ]
     },
     "metadata": {},
     "output_type": "display_data"
    },
    {
     "data": {
      "text/html": [
       "<table>\n",
       "    <thead>\n",
       "        <tr>\n",
       "            <th>count_star()</th>\n",
       "        </tr>\n",
       "    </thead>\n",
       "    <tbody>\n",
       "        <tr>\n",
       "            <td>70</td>\n",
       "        </tr>\n",
       "    </tbody>\n",
       "</table>"
      ],
      "text/plain": [
       "+--------------+\n",
       "| count_star() |\n",
       "+--------------+\n",
       "|      70      |\n",
       "+--------------+"
      ]
     },
     "execution_count": 23,
     "metadata": {},
     "output_type": "execute_result"
    }
   ],
   "source": [
    "%%sql\n",
    "SELECT COUNT(*)\n",
    "FROM publications\n",
    "WHERE REGEXP_MATCHES(autori, '(Ezgeta[- ]?Bali[cć]?[,]? D(.|aria))|(D(.|aria)[,]? Ezgeta[- ]?Bali[cć]?)|(Ezgeta[- ]?D(.|aria))|(D(.|aria)[,]? Ezgeta)')"
   ]
  },
  {
   "cell_type": "code",
   "execution_count": 23,
   "metadata": {},
   "outputs": [
    {
     "name": "stdout",
     "output_type": "stream",
     "text": [
      "Sample row:\n",
      "crosbiId: 304137\n",
      "bibIrbId: 1172097\n",
      "autori: Splieth, Christian H. ; Banerjee, Avijit ; Bottenberg, Peter ; Breschi, Lorenzo ; Campus, Guglielmo ; Ekstrand, Kim Rud ; Giacaman, Rodrigo A. ; Haak, Rainer ; Hannig, Matthias ; Hickel, Reinhard ; Jurić, Hrvoje ; Lussi, Adrian ; Machiulskiene, Vita ; Manton, David J. ; Jablonski-Momeni, Anahita ; Opdam, Niek J.M. ; Paris, Sebastian ; Santamaría, Ruth M. ; Schwendicke, Falk ; Tassery, Herve ; Ferreira Zandona, Andrea ; Zero, Domenick T. ; Zimmer, Stefan ; Doméjean, Sophie\n",
      "naslov: How to Intervene in the Caries Process in Children: A Joint ORCA and EFCD Expert Delphi Consensus Statement\n",
      "vrsta: prilog u časopisu\n",
      "tip: izvorni znanstveni rad\n",
      "godina: 2020\n",
      "nadredenaPublikacija: Caries research\n",
      "casopis: Caries research\n",
      "volumen: 54\n",
      "svescic: 4\n",
      "stranice: str. 297-305\n",
      "doi: 10.1159/000507692\n",
      "issn: 0008-6568\n",
      "indeksiranost: ['Scopus', 'Current Contents Connect (CCC)', 'Medline', 'Web of Science Core Collection, Science Citation Index Expanded (WoSCC-SCI-Exp)', 'Web of Science Core Collection, SCI-Exp, SSCI & A&HCI (WoSCC-SCI-Exp, SSCI, A&HCI) ']\n",
      "citati: [{'vrstaCitataId': 1040, 'vrstaCitataNaziv': 'CROSBI', 'citat': 'Splieth, Christian H. ; Banerjee, Avijit ; Bottenberg, Peter ; Breschi, Lorenzo ; Campus, Guglielmo ; Ekstrand, Kim Rud ; Giacaman, Rodrigo A. ; Haak, Rainer ; Hannig, Matthias ; Hickel, Reinhard  et al.\\nHow to Intervene in the Caries Process in Children: A Joint ORCA and EFCD Expert Delphi Consensus Statement // Caries research, 54 (2020), 4; 297-305. doi: 10.1159/000507692'}]\n",
      "naslovi: [{'cfLangCode': 'en', 'naziv': 'How to Intervene in the Caries Process in Children: A Joint ORCA and EFCD Expert Delphi Consensus Statement', 'original': True, 'cfTrans': 'o'}]\n",
      "sazeci: [{'cfLangCode': 'en', 'naziv': 'This paper provides recommendations for dentists for the treatment of dental caries in children, with an emphasis on early childhood caries (ECC), primary teeth, and occlusal surfaces in permanent teeth. A consensus workshop followed by an e- Delphi consensus process was conducted with an expert panel nominated by the European Organization for Caries Research (ORCA) and European Federation of Conservative Dentistry (EFCD)/German Association of Conservative Dentistry (DGZ) boards. Based on 3 systematic reviews and a nonsystematic literature search, recommendations were developed. The caries decline has led to a more polarized disease distribution in children and adolescents along social gradients which should be taken into account when managing the caries process at all levels, such as the individual, the group, or a population. The control or reduction of caries activity is the basis for successful caries management. In children, caries management requires adequate daily oral hygiene and fluoride application via toothpaste, ensured by caregivers, and especially for ECC prevention an emphasis on sugar intake reduction is needed. These noninvasive interventions are also suitable to arrest or control initial or even cavitated dentine caries lesions in the absence of irreversible pulpitis. Fluoride varnish or silver diammine fluoride can be added as supplementary agents. In pits and fissures, composite resin materials can be used as preventive sealants and for defect- oriented minimally invasive restorations. In primary molars, preformed metal crowns are more successful than multisurface fillings, especially in caries- active patients. With persisting high caries activity, multiple lesions, and limited cooperation, caries control should consist of robust measures with high success rates, even including extraction in selected cases. This applies especially to treatments performed under general anesthesia.', 'original': True, 'cfTrans': 'o'}]\n",
      "kljucneRijeci: [{'cfLangCode': 'en', 'naziv': 'children ; caries treatment ; early childhood caries ; primary teeth ; permanent molars ; fluoride ; sealant ; restoration', 'original': True, 'cfTrans': 'o'}]\n",
      "poveznice: [{'urlId': 140032, 'urlVrstaId': 990, 'urlVrstaNaziv': 'URL rada koji je dostupan u otvorenom pristupu', 'url': 'https://www.karger.com/Article/Pdf/507692'}]\n",
      "osobeResources: {'_embedded': {'osobe': [{'crorisId': 5294, 'titulaIspredImena': 'prof. dr. sc.', 'ime': 'Hrvoje', 'prezime': 'Jurić', 'funkcija': {'id': 905, 'naziv': 'autor/i'}, '_links': {'self': {'href': 'https://croris.hr/crosbi-api/osoba/5294'}}}]}}\n",
      "ustanoveResources: {'_embedded': {'ustanove': [{'crorisId': 46, 'naziv': 'Stomatološki fakultet', 'mbu': 65, 'funkcija': {'id': 941, 'naziv': 'autorova ustanova'}, '_links': {'self': {'href': 'https://croris.hr/crosbi-api/ustanova/46'}}}]}}\n",
      "_links: {'osobe': {'href': 'https://croris.hr/crosbi-api/osoba/publikacija/304137'}, 'ustanove': {'href': 'https://croris.hr/crosbi-api/ustanova/publikacija/304137'}, 'self': {'href': 'https://croris.hr/crosbi-api/publikacija/304137'}}\n"
     ]
    }
   ],
   "source": [
    "# Print one row from the table\n",
    "row = con.execute(\"SELECT * FROM publications LIMIT 1\").fetchone()\n",
    "print(\"Sample row:\")\n",
    "for column, value in zip(table_info, row):\n",
    "    print(f\"{column[1]}: {value}\")"
   ]
  },
  {
   "cell_type": "code",
   "execution_count": 24,
   "metadata": {},
   "outputs": [
    {
     "ename": "BinderException",
     "evalue": "Binder Error: Failed to create foreign key: there is no primary key or unique constraint for referenced table \"publications\"",
     "output_type": "error",
     "traceback": [
      "\u001b[0;31m---------------------------------------------------------------------------\u001b[0m",
      "\u001b[0;31mBinderException\u001b[0m                           Traceback (most recent call last)",
      "Cell \u001b[0;32mIn[24], line 14\u001b[0m\n\u001b[1;32m      4\u001b[0m con\u001b[38;5;241m.\u001b[39mexecute(\u001b[38;5;124m\"\"\"\u001b[39m\n\u001b[1;32m      5\u001b[0m \u001b[38;5;124m    CREATE TABLE osobe (\u001b[39m\n\u001b[1;32m      6\u001b[0m \u001b[38;5;124m        crorisId INTEGER PRIMARY KEY,\u001b[39m\n\u001b[0;32m   (...)\u001b[0m\n\u001b[1;32m     10\u001b[0m \u001b[38;5;124m    )\u001b[39m\n\u001b[1;32m     11\u001b[0m \u001b[38;5;124m\"\"\"\u001b[39m)\n\u001b[1;32m     13\u001b[0m \u001b[38;5;66;03m# Create a table to establish the relationship between persons and publications\u001b[39;00m\n\u001b[0;32m---> 14\u001b[0m \u001b[43mcon\u001b[49m\u001b[38;5;241;43m.\u001b[39;49m\u001b[43mexecute\u001b[49m\u001b[43m(\u001b[49m\u001b[38;5;124;43m\"\"\"\u001b[39;49m\n\u001b[1;32m     15\u001b[0m \u001b[38;5;124;43m    CREATE TABLE osobe_publikacije (\u001b[39;49m\n\u001b[1;32m     16\u001b[0m \u001b[38;5;124;43m        crorisId INTEGER,\u001b[39;49m\n\u001b[1;32m     17\u001b[0m \u001b[38;5;124;43m        crosbiId INTEGER,\u001b[39;49m\n\u001b[1;32m     18\u001b[0m \u001b[38;5;124;43m        funkcija VARCHAR,\u001b[39;49m\n\u001b[1;32m     19\u001b[0m \u001b[38;5;124;43m        PRIMARY KEY (crorisId, crosbiId),\u001b[39;49m\n\u001b[1;32m     20\u001b[0m \u001b[38;5;124;43m        FOREIGN KEY (crorisId) REFERENCES osobe (crorisId),\u001b[39;49m\n\u001b[1;32m     21\u001b[0m \u001b[38;5;124;43m        FOREIGN KEY (crosbiId) REFERENCES publications (crosbiId)\u001b[39;49m\n\u001b[1;32m     22\u001b[0m \u001b[38;5;124;43m    )\u001b[39;49m\n\u001b[1;32m     23\u001b[0m \u001b[38;5;124;43m\"\"\"\u001b[39;49m\u001b[43m)\u001b[49m\n\u001b[1;32m     25\u001b[0m \u001b[38;5;66;03m# Iterate over each row in the \"publications\" table\u001b[39;00m\n\u001b[1;32m     26\u001b[0m rows \u001b[38;5;241m=\u001b[39m con\u001b[38;5;241m.\u001b[39mexecute(\u001b[38;5;124m\"\u001b[39m\u001b[38;5;124mSELECT crosbiId, osobeResources FROM publications\u001b[39m\u001b[38;5;124m\"\u001b[39m)\u001b[38;5;241m.\u001b[39mfetchall()\n",
      "\u001b[0;31mBinderException\u001b[0m: Binder Error: Failed to create foreign key: there is no primary key or unique constraint for referenced table \"publications\""
     ]
    }
   ],
   "source": [
    "import json\n",
    "\n",
    "# Create a separate table for persons\n",
    "con.execute(\"\"\"\n",
    "    CREATE TABLE osobe (\n",
    "        crorisId INTEGER PRIMARY KEY,\n",
    "        titulaIspredImena VARCHAR,\n",
    "        ime VARCHAR,\n",
    "        prezime VARCHAR\n",
    "    )\n",
    "\"\"\")\n",
    "\n",
    "# Create a table to establish the relationship between persons and publications\n",
    "con.execute(\"\"\"\n",
    "    CREATE TABLE osobe_publikacije (\n",
    "        crorisId INTEGER,\n",
    "        crosbiId INTEGER,\n",
    "        funkcija VARCHAR,\n",
    "        PRIMARY KEY (crorisId, crosbiId),\n",
    "        FOREIGN KEY (crorisId) REFERENCES osobe (crorisId),\n",
    "        FOREIGN KEY (crosbiId) REFERENCES publications (crosbiId)\n",
    "    )\n",
    "\"\"\")\n",
    "\n",
    "# Iterate over each row in the \"publications\" table\n",
    "rows = con.execute(\"SELECT crosbiId, osobeResources FROM publications\").fetchall()\n",
    "for row in rows:\n",
    "    crosbiId = row[0]\n",
    "    osobeResources = json.loads(row[1])\n",
    "\n",
    "    if '_embedded' in osobeResources and 'osobe' in osobeResources['_embedded']:\n",
    "        osobe = osobeResources['_embedded']['osobe']\n",
    "        for osoba in osobe:\n",
    "            crorisId = osoba['crorisId']\n",
    "            titulaIspredImena = osoba.get('titulaIspredImena', '')\n",
    "            ime = osoba['ime']\n",
    "            prezime = osoba['prezime']\n",
    "            funkcija = osoba['funkcija']['naziv']\n",
    "\n",
    "            # Insert the person into the \"osobe\" table if it doesn't exist\n",
    "            con.execute(\"\"\"\n",
    "                INSERT OR IGNORE INTO osobe (crorisId, titulaIspredImena, ime, prezime)\n",
    "                VALUES (?, ?, ?, ?)\n",
    "            \"\"\", (crorisId, titulaIspredImena, ime, prezime))\n",
    "\n",
    "            # Insert the relationship between the person and publication into the \"osobe_publikacije\" table\n",
    "            con.execute(\"\"\"\n",
    "                INSERT INTO osobe_publikacije (crorisId, crosbiId, funkcija)\n",
    "                VALUES (?, ?, ?)\n",
    "            \"\"\", (crorisId, crosbiId, funkcija))\n",
    "\n",
    "# Print the contents of the \"osobe\" table\n",
    "print(\"Osobe:\")\n",
    "osobe = con.execute(\"SELECT * FROM osobe\").fetchall()\n",
    "for osoba in osobe:\n",
    "    print(osoba)\n",
    "\n",
    "# Print the contents of the \"osobe_publikacije\" table\n",
    "print(\"\\nOsobe-Publikacije:\")\n",
    "osobe_publikacije = con.execute(\"SELECT * FROM osobe_publikacije\").fetchall()\n",
    "for veza in osobe_publikacije:\n",
    "    print(veza)"
   ]
  },
  {
   "cell_type": "code",
   "execution_count": 11,
   "metadata": {},
   "outputs": [
    {
     "name": "stdout",
     "output_type": "stream",
     "text": [
      "Filtered DataFrame showing only 'izvorni znanstveni rad': 288969\n"
     ]
    }
   ],
   "source": [
    "# Filtering for rows where 'tip' is 'izvorni znanstveni rad'\n",
    "filtered_df = con.execute(\"SELECT * FROM publications WHERE tip = 'izvorni znanstveni rad'\").df()\n",
    "print(f\"Filtered DataFrame showing only 'izvorni znanstveni rad': {len(filtered_df)}\")"
   ]
  },
  {
   "cell_type": "code",
   "execution_count": 20,
   "metadata": {},
   "outputs": [
    {
     "name": "stdout",
     "output_type": "stream",
     "text": [
      "Number of rows from 2004 to 2023 showing only 'izvorni znanstveni rad': 223534\n"
     ]
    }
   ],
   "source": [
    "# Applying the condition to filter rows from the year 2004 to 2023 inclusive\n",
    "filtered_df2 = con.execute(\"SELECT * FROM publications WHERE CAST(godina AS INTEGER) BETWEEN 2004 AND 2023 AND tip = 'izvorni znanstveni rad'\").df()\n",
    "print(f\"Number of rows from 2004 to 2023 showing only 'izvorni znanstveni rad': {len(filtered_df2)}\")"
   ]
  },
  {
   "cell_type": "code",
   "execution_count": 21,
   "metadata": {},
   "outputs": [
    {
     "name": "stdout",
     "output_type": "stream",
     "text": [
      "Number of rows from 2004 to 2023 showing only 'izvorni znanstveni rad': 223534\n"
     ]
    }
   ],
   "source": [
    "# Filtering for rows where 'tip' is 'izvorni znanstveni rad'\n",
    "filtered_count = con.execute(\"SELECT COUNT(*) FROM publications WHERE CAST(godina AS INTEGER) BETWEEN 2004 AND 2023 AND tip = 'izvorni znanstveni rad'\").fetchone()[0]\n",
    "print(f\"Number of rows from 2004 to 2023 showing only 'izvorni znanstveni rad': {filtered_count}\")"
   ]
  }
 ],
 "metadata": {
  "kernelspec": {
   "display_name": "env",
   "language": "python",
   "name": "python3"
  },
  "language_info": {
   "codemirror_mode": {
    "name": "ipython",
    "version": 3
   },
   "file_extension": ".py",
   "mimetype": "text/x-python",
   "name": "python",
   "nbconvert_exporter": "python",
   "pygments_lexer": "ipython3",
   "version": "3.12.3"
  }
 },
 "nbformat": 4,
 "nbformat_minor": 2
}
