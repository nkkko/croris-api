{
 "cells": [
  {
   "cell_type": "markdown",
   "metadata": {},
   "source": [
    "https://www.croris.hr/crosbi-api/swagger-ui/index.html"
   ]
  },
  {
   "cell_type": "code",
   "execution_count": null,
   "metadata": {},
   "outputs": [],
   "source": [
    "import requests\n",
    "import pickle\n",
    "import time\n",
    "import argparse\n",
    "from tqdm import tqdm\n",
    "\n",
    "def fetch_publications(url):\n",
    "    try:\n",
    "        response = requests.get(url)\n",
    "        response.raise_for_status()  # Raise an exception for 4xx or 5xx status codes\n",
    "        data = response.json()\n",
    "        publications = data[\"_embedded\"][\"publikacije\"]\n",
    "        return publications\n",
    "    except requests.exceptions.RequestException as e:\n",
    "        print(f\"Error: {str(e)}\")\n",
    "        return None\n",
    "\n",
    "def save_publications(publications, output_file):\n",
    "    try:\n",
    "        with open(output_file, \"wb\") as file:\n",
    "            pickle.dump(publications, file)\n",
    "        print(f\"Data saved successfully to {output_file}.\")\n",
    "    except IOError as e:\n",
    "        print(f\"Error: {str(e)}\")\n",
    "\n",
    "def main():\n",
    "    parser = argparse.ArgumentParser(description=\"Fetch publications from the API.\")\n",
    "    parser.add_argument(\"--url\", required=True, help=\"API endpoint URL\")\n",
    "    parser.add_argument(\"--output\", default=\"publications.pkl\", help=\"Output file name\")\n",
    "    args = parser.parse_args()\n",
    "\n",
    "    url = args.url\n",
    "    output_file = args.output\n",
    "\n",
    "    all_publications = []\n",
    "\n",
    "    try:\n",
    "        with tqdm(desc=\"Fetching publications\", unit=\"page\") as pbar:\n",
    "            page_number = 1\n",
    "            while True:\n",
    "                page_url = f\"{url}&pageNumber={page_number}\"\n",
    "                publications = fetch_publications(page_url)\n",
    "\n",
    "                if publications is None:\n",
    "                    break\n",
    "\n",
    "                all_publications.extend(publications)\n",
    "                page_number += 1\n",
    "                pbar.update(1)\n",
    "\n",
    "                time.sleep(1)  # Add a delay between API requests\n",
    "\n",
    "    except KeyboardInterrupt:\n",
    "        print(\"\\nProgram interrupted by the user.\")\n",
    "\n",
    "    if all_publications:\n",
    "        save_publications(all_publications, output_file)\n",
    "    else:\n",
    "        print(\"No publications found.\")\n",
    "\n",
    "if __name__ == \"__main__\":\n",
    "    main()\n"
   ]
  }
 ],
 "metadata": {
  "language_info": {
   "name": "python"
  }
 },
 "nbformat": 4,
 "nbformat_minor": 2
}
